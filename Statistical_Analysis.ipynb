{
  "nbformat": 4,
  "nbformat_minor": 0,
  "metadata": {
    "colab": {
      "name": "Statistical_Analysis.ipynb",
      "provenance": [],
      "collapsed_sections": [],
      "authorship_tag": "ABX9TyPfolSrJmEpXbv3JulcSzbM",
      "include_colab_link": true
    },
    "kernelspec": {
      "name": "python3",
      "display_name": "Python 3"
    },
    "language_info": {
      "name": "python"
    }
  },
  "cells": [
    {
      "cell_type": "markdown",
      "metadata": {
        "id": "view-in-github",
        "colab_type": "text"
      },
      "source": [
        "<a href=\"https://colab.research.google.com/github/tauqueerdanish/statitical_analysis/blob/main/Statistical_Analysis.ipynb\" target=\"_parent\"><img src=\"https://colab.research.google.com/assets/colab-badge.svg\" alt=\"Open In Colab\"/></a>"
      ]
    },
    {
      "cell_type": "code",
      "execution_count": null,
      "metadata": {
        "id": "6BOz9fbQ2BSg"
      },
      "outputs": [],
      "source": [
        "import pandas as pd\n",
        "from scipy import stats\n",
        "import matplotlib.pyplot as plt"
      ]
    },
    {
      "cell_type": "code",
      "source": [
        "data = pd.read_excel('/content/analysis_data.xlsx')\n",
        "print(data)"
      ],
      "metadata": {
        "colab": {
          "base_uri": "https://localhost:8080/"
        },
        "id": "rlOlYVBq2ZOy",
        "outputId": "ca7f5850-51db-497e-acc6-f6ea399de0b8"
      },
      "execution_count": null,
      "outputs": [
        {
          "output_type": "stream",
          "name": "stdout",
          "text": [
            "        Groups b.p(G1) (D-1) b.p (G1) (D-30) b.p (G1) (D-60)  RBS(G2) (D-1)  \\\n",
            "0           CG        180/95          180/95          180/95            175   \n",
            "1           CG        182/93          182/93          182/93            182   \n",
            "2           CG        175/85          175/85          175/85            220   \n",
            "3           CG        181/87          181/87          181/87            189   \n",
            "4           CG        190/95          190/95          190/95            186   \n",
            "5           CG        187/92          187/92          187/92            173   \n",
            "6           CG        178/77          178/77          178/77            198   \n",
            "7           CG        182/82          182/82          182/82            188   \n",
            "8           CG        195/90          195/90          195/90            182   \n",
            "9           CG        180/85          180/85          180/85            185   \n",
            "10  G-1 =400mg        135/82          133/81          131/80            189   \n",
            "11  G-1 =400mg        145/85          142/84          140/82            179   \n",
            "12  G-1 =400mg        160/90          158/88          152/85            194   \n",
            "13  G-1 =400mg        200/95          197/93          190/88            184   \n",
            "14  G-1 =400mg        187/90          185/87          175/85            210   \n",
            "15  G-1 =400mg        150/87          147/84          140/80            215   \n",
            "16  G-1 =400mg        160/88          158/87          150/82            187   \n",
            "17  G-1 =400mg        165/89          163/87          159/84            176   \n",
            "18  G-1 =400mg        145/92          143/88          140/85            270   \n",
            "19  G-1 =400mg        170/90          167/87          160/85            218   \n",
            "20  G-2 =800mg        180/85          177/82          170/79            320   \n",
            "21  G-2 =800mg        177/90          168/88          162/82            284   \n",
            "22  G-2 =800mg        172/88          164/80          160/79            280   \n",
            "23  G-2 =800mg        160/85          158/83          156/81            288   \n",
            "24  G-2 =800mg        145/95          143/82          140/80            214   \n",
            "25  G-2 =800mg        172/90          168/88          164/82            187   \n",
            "26  G-2 =800mg        200/95          187/90          184/83            182   \n",
            "27  G-2 =800mg        190/90          184/85          180/80            188   \n",
            "28  G-2 =800mg        181/92          176/88          170/82            217   \n",
            "29  G-2 =800mg        185/93          180/87          178/85            298   \n",
            "\n",
            "    RBS (G2) (D-30)  RBS (G2) (D-60)  HbA1C (D-1)  HbA1C (D-60)  \n",
            "0               175              175          6.6           6.6  \n",
            "1               182              182          7.5           7.5  \n",
            "2               220              220          6.9           6.9  \n",
            "3               189              189          7.1           7.1  \n",
            "4               186              186          7.6           7.6  \n",
            "5               173              173          6.8           6.8  \n",
            "6               198              198          7.2           7.2  \n",
            "7               188              188          7.5           7.5  \n",
            "8               182              182          6.7           6.7  \n",
            "9               185              185          6.8           6.8  \n",
            "10              180              175          6.7           6.5  \n",
            "11              170              160          7.3           7.1  \n",
            "12              182              174          6.8           6.5  \n",
            "13              174              167          6.9           6.7  \n",
            "14              197              189          7.4           7.1  \n",
            "15              194              190          6.9           6.6  \n",
            "16              179              170          7.0           6.8  \n",
            "17              169              158          7.2           6.9  \n",
            "18              250              242          6.7           6.5  \n",
            "19              210              198          6.8           6.6  \n",
            "20              291              287          6.6           6.2  \n",
            "21              276              269          7.5           7.1  \n",
            "22              265              258          6.9           6.4  \n",
            "23              270              264          7.1           6.7  \n",
            "24              192              183          7.6           7.1  \n",
            "25              175              168          6.8           6.2  \n",
            "26              164              155          7.2           6.7  \n",
            "27              164              158          7.5           6.8  \n",
            "28              194              182          6.7           6.3  \n",
            "29              277              260          6.8           6.5  \n"
          ]
        }
      ]
    },
    {
      "cell_type": "code",
      "source": [
        "# Separating the systolic and diastolic blood pressures\n",
        "\n",
        "data[['Systolic (D-1)', 'Diastolic (D-1)']]= data['b.p(G1) (D-1)'].str.split('/', n=1, expand=True)\n",
        "data[['Systolic (D-30)', 'Diastolic (D-30)']]= data['b.p (G1) (D-30)'].str.split('/', n=1, expand=True)\n",
        "data[['Systolic (D-60)', 'Diastolic (D-60)']]= data['b.p (G1) (D-60)'].str.split('/', n=1, expand=True)\n",
        "print(data)"
      ],
      "metadata": {
        "colab": {
          "base_uri": "https://localhost:8080/"
        },
        "id": "yymZf7yn31XM",
        "outputId": "7ae31019-774f-425d-d136-44d79e1becae"
      },
      "execution_count": null,
      "outputs": [
        {
          "output_type": "stream",
          "name": "stdout",
          "text": [
            "        Groups b.p(G1) (D-1) b.p (G1) (D-30) b.p (G1) (D-60)  RBS(G2) (D-1)  \\\n",
            "0           CG        180/95          180/95          180/95            175   \n",
            "1           CG        182/93          182/93          182/93            182   \n",
            "2           CG        175/85          175/85          175/85            220   \n",
            "3           CG        181/87          181/87          181/87            189   \n",
            "4           CG        190/95          190/95          190/95            186   \n",
            "5           CG        187/92          187/92          187/92            173   \n",
            "6           CG        178/77          178/77          178/77            198   \n",
            "7           CG        182/82          182/82          182/82            188   \n",
            "8           CG        195/90          195/90          195/90            182   \n",
            "9           CG        180/85          180/85          180/85            185   \n",
            "10  G-1 =400mg        135/82          133/81          131/80            189   \n",
            "11  G-1 =400mg        145/85          142/84          140/82            179   \n",
            "12  G-1 =400mg        160/90          158/88          152/85            194   \n",
            "13  G-1 =400mg        200/95          197/93          190/88            184   \n",
            "14  G-1 =400mg        187/90          185/87          175/85            210   \n",
            "15  G-1 =400mg        150/87          147/84          140/80            215   \n",
            "16  G-1 =400mg        160/88          158/87          150/82            187   \n",
            "17  G-1 =400mg        165/89          163/87          159/84            176   \n",
            "18  G-1 =400mg        145/92          143/88          140/85            270   \n",
            "19  G-1 =400mg        170/90          167/87          160/85            218   \n",
            "20  G-2 =800mg        180/85          177/82          170/79            320   \n",
            "21  G-2 =800mg        177/90          168/88          162/82            284   \n",
            "22  G-2 =800mg        172/88          164/80          160/79            280   \n",
            "23  G-2 =800mg        160/85          158/83          156/81            288   \n",
            "24  G-2 =800mg        145/95          143/82          140/80            214   \n",
            "25  G-2 =800mg        172/90          168/88          164/82            187   \n",
            "26  G-2 =800mg        200/95          187/90          184/83            182   \n",
            "27  G-2 =800mg        190/90          184/85          180/80            188   \n",
            "28  G-2 =800mg        181/92          176/88          170/82            217   \n",
            "29  G-2 =800mg        185/93          180/87          178/85            298   \n",
            "\n",
            "    RBS (G2) (D-30)  RBS (G2) (D-60)  HbA1C (D-1)  HbA1C (D-60)  \\\n",
            "0               175              175          6.6           6.6   \n",
            "1               182              182          7.5           7.5   \n",
            "2               220              220          6.9           6.9   \n",
            "3               189              189          7.1           7.1   \n",
            "4               186              186          7.6           7.6   \n",
            "5               173              173          6.8           6.8   \n",
            "6               198              198          7.2           7.2   \n",
            "7               188              188          7.5           7.5   \n",
            "8               182              182          6.7           6.7   \n",
            "9               185              185          6.8           6.8   \n",
            "10              180              175          6.7           6.5   \n",
            "11              170              160          7.3           7.1   \n",
            "12              182              174          6.8           6.5   \n",
            "13              174              167          6.9           6.7   \n",
            "14              197              189          7.4           7.1   \n",
            "15              194              190          6.9           6.6   \n",
            "16              179              170          7.0           6.8   \n",
            "17              169              158          7.2           6.9   \n",
            "18              250              242          6.7           6.5   \n",
            "19              210              198          6.8           6.6   \n",
            "20              291              287          6.6           6.2   \n",
            "21              276              269          7.5           7.1   \n",
            "22              265              258          6.9           6.4   \n",
            "23              270              264          7.1           6.7   \n",
            "24              192              183          7.6           7.1   \n",
            "25              175              168          6.8           6.2   \n",
            "26              164              155          7.2           6.7   \n",
            "27              164              158          7.5           6.8   \n",
            "28              194              182          6.7           6.3   \n",
            "29              277              260          6.8           6.5   \n",
            "\n",
            "   Systolic (D-1) Diastolic (D-1) Systolic (D-30) Diastolic (D-30)  \\\n",
            "0             180              95             180               95   \n",
            "1             182              93             182               93   \n",
            "2             175              85             175               85   \n",
            "3             181              87             181               87   \n",
            "4             190              95             190               95   \n",
            "5             187              92             187               92   \n",
            "6             178              77             178               77   \n",
            "7             182              82             182               82   \n",
            "8             195              90             195               90   \n",
            "9             180              85             180               85   \n",
            "10            135              82             133               81   \n",
            "11            145              85             142               84   \n",
            "12            160              90             158               88   \n",
            "13            200              95             197               93   \n",
            "14            187              90             185               87   \n",
            "15            150              87             147               84   \n",
            "16            160              88             158               87   \n",
            "17            165              89             163               87   \n",
            "18            145              92             143               88   \n",
            "19            170              90             167               87   \n",
            "20            180              85             177               82   \n",
            "21            177              90             168               88   \n",
            "22            172              88             164               80   \n",
            "23            160              85             158               83   \n",
            "24            145              95             143               82   \n",
            "25            172              90             168               88   \n",
            "26            200              95             187               90   \n",
            "27            190              90             184               85   \n",
            "28            181              92             176               88   \n",
            "29            185              93             180               87   \n",
            "\n",
            "   Systolic (D-60) Diastolic (D-60)  \n",
            "0              180               95  \n",
            "1              182               93  \n",
            "2              175               85  \n",
            "3              181               87  \n",
            "4              190               95  \n",
            "5              187               92  \n",
            "6              178               77  \n",
            "7              182               82  \n",
            "8              195               90  \n",
            "9              180               85  \n",
            "10             131               80  \n",
            "11             140               82  \n",
            "12             152               85  \n",
            "13             190               88  \n",
            "14             175               85  \n",
            "15             140               80  \n",
            "16             150               82  \n",
            "17             159               84  \n",
            "18             140               85  \n",
            "19             160               85  \n",
            "20             170               79  \n",
            "21             162               82  \n",
            "22             160               79  \n",
            "23             156               81  \n",
            "24             140               80  \n",
            "25             164               82  \n",
            "26             184               83  \n",
            "27             180               80  \n",
            "28             170               82  \n",
            "29             178               85  \n"
          ]
        }
      ]
    },
    {
      "cell_type": "code",
      "source": [
        "# Making graphs for the Common Group\n",
        "\n",
        "plt.plot(range(10), data['Diastolic (D-1)'][:10], label=['Systolic (D-1)'])\n",
        "plt.plot(range(10), data['Systolic (D-1)'][:10], label=['Diastolic (D-1)'])\n",
        "plt.xlabel(\"Person's\")\n",
        "plt.ylabel(\"mmHg\")\n",
        "plt.title(\"Common Group Systolic And Diastolic Blood Pressure Analysis\")\n",
        "plt.legend()\n",
        "plt.show()\n",
        "\n",
        "plt.plot(range(10), data['Diastolic (D-30)'][:10], label=['Systolic (D-30)'])\n",
        "plt.plot(range(10), data['Systolic (D-30)'][:10], label=['Diastolic (D-30)'])\n",
        "plt.xlabel(\"Person's\")\n",
        "plt.ylabel(\"mmHg\")\n",
        "plt.title(\"Common Group Systolic And Diastolic Blood Pressure Analysis\")\n",
        "plt.legend()\n",
        "plt.show()\n",
        "\n",
        "\n",
        "\n",
        "plt.plot(range(10), data['Diastolic (D-60)'][:10], label=['Systolic (D-60)'])\n",
        "plt.plot(range(10), data['Systolic (D-60)'][:10], label=['Diastolic (D-60)'])\n",
        "plt.xlabel(\"Person's\")\n",
        "plt.ylabel(\"mmHg\")\n",
        "plt.title(\"Common Group Systolic And Diastolic Blood Pressure Analysis\")\n",
        "plt.legend()\n",
        "plt.show()\n"
      ],
      "metadata": {
        "id": "qt4XEq9P2uff",
        "colab": {
          "base_uri": "https://localhost:8080/",
          "height": 851
        },
        "outputId": "7d126f93-c2b9-449c-ebb1-1951f9a61e60"
      },
      "execution_count": null,
      "outputs": [
        {
          "output_type": "display_data",
          "data": {
            "text/plain": [
              "<Figure size 432x288 with 1 Axes>"
            ],
            "image/png": "[encoded data removed]"
          },
          "metadata": {
            "needs_background": "light"
          }
        },
        {
          "output_type": "display_data",
          "data": {
            "text/plain": [
              "<Figure size 432x288 with 1 Axes>"
            ],
            "image/png": "[encoded data removed]"
          },
          "metadata": {
            "needs_background": "light"
          }
        },
        {
          "output_type": "display_data",
          "data": {
            "text/plain": [
              "<Figure size 432x288 with 1 Axes>"
            ],
            "image/png": "[encoded data removed]"
          },
          "metadata": {
            "needs_background": "light"
          }
        }
      ]
    },
    {
      "cell_type": "code",
      "source": [
        "# Making graphs for the Group_1\n",
        "\n",
        "plt.plot(range(10), data['Diastolic (D-1)'][10:20], label=['Systolic (D-1)'])\n",
        "plt.plot(range(10), data['Systolic (D-1)'][10:20], label=['Diastolic (D-1)'])\n",
        "plt.xlabel(\"Person's\")\n",
        "plt.ylabel(\"mmHg\")\n",
        "plt.title(\"Group_1 Systolic And Diastolic Blood Pressure Analysis\")\n",
        "plt.legend()\n",
        "plt.show()\n",
        "\n",
        "plt.plot(range(10), data['Diastolic (D-30)'][10:20], label=['Systolic (D-30)'])\n",
        "plt.plot(range(10), data['Systolic (D-30)'][10:20], label=['Diastolic (D-30)'])\n",
        "plt.xlabel(\"Person's\")\n",
        "plt.ylabel(\"mmHg\")\n",
        "plt.title(\"Group_1 Systolic And Diastolic Blood Pressure Analysis\")\n",
        "plt.legend()\n",
        "plt.show()\n",
        "\n",
        "\n",
        "\n",
        "plt.plot(range(10), data['Diastolic (D-60)'][10:20], label=['Systolic (D-60)'])\n",
        "plt.plot(range(10), data['Systolic (D-60)'][10:20], label=['Diastolic (D-60)'])\n",
        "plt.xlabel(\"Person's\")\n",
        "plt.ylabel(\"mmHg\")\n",
        "plt.title(\"Group_1 Systolic And Diastolic Blood Pressure Analysis\")\n",
        "plt.legend()\n",
        "plt.show()\n"
      ],
      "metadata": {
        "colab": {
          "base_uri": "https://localhost:8080/",
          "height": 851
        },
        "id": "jb7NcliHFUVl",
        "outputId": "f8d91fee-e7d7-454c-baeb-edf575e19984"
      },
      "execution_count": null,
      "outputs": [
        {
          "output_type": "display_data",
          "data": {
            "text/plain": [
              "<Figure size 432x288 with 1 Axes>"
            ],
            "image/png": "[encoded data removed]"
          },
          "metadata": {
            "needs_background": "light"
          }
        },
        {
          "output_type": "display_data",
          "data": {
            "text/plain": [
              "<Figure size 432x288 with 1 Axes>"
            ],
            "image/png": "[encoded data removed]"
          },
          "metadata": {
            "needs_background": "light"
          }
        },
        {
          "output_type": "display_data",
          "data": {
            "text/plain": [
              "<Figure size 432x288 with 1 Axes>"
            ],
            "image/png": "[encoded data removed]"
          },
          "metadata": {
            "needs_background": "light"
          }
        }
      ]
    },
    {
      "cell_type": "code",
      "source": [
        "# Making graphs for the Group_2\n",
        "\n",
        "plt.plot(range(10), data['Diastolic (D-1)'][20:], label=['Systolic (D-1)'])\n",
        "plt.plot(range(10), data['Systolic (D-1)'][20:], label=['Diastolic (D-1)'])\n",
        "plt.xlabel(\"Person's\")\n",
        "plt.ylabel(\"mmHg\")\n",
        "plt.title(\"Group_2 Systolic And Diastolic Blood Pressure Analysis\")\n",
        "plt.legend()\n",
        "plt.show()\n",
        "\n",
        "plt.plot(range(10), data['Diastolic (D-30)'][20:], label=['Systolic (D-30)'])\n",
        "plt.plot(range(10), data['Systolic (D-30)'][20:], label=['Diastolic (D-30)'])\n",
        "plt.xlabel(\"Person's\")\n",
        "plt.ylabel(\"mmHg\")\n",
        "plt.title(\"Group_2 Systolic And Diastolic Blood Pressure Analysis\")\n",
        "plt.legend()\n",
        "plt.show()\n",
        "\n",
        "\n",
        "\n",
        "plt.plot(range(10), data['Diastolic (D-60)'][20:], label=['Systolic (D-60)'])\n",
        "plt.plot(range(10), data['Systolic (D-60)'][20:], label=['Diastolic (D-60)'])\n",
        "plt.xlabel(\"Person's\")\n",
        "plt.ylabel(\"mmHg\")\n",
        "plt.title(\"Group_2 Systolic And Diastolic Blood Pressure Analysis\")\n",
        "plt.legend()\n",
        "plt.show()\n"
      ],
      "metadata": {
        "colab": {
          "base_uri": "https://localhost:8080/",
          "height": 851
        },
        "id": "mVgmZJMfFUCl",
        "outputId": "a606ab30-9b7d-42e3-e2c4-e0c97f88dfbd"
      },
      "execution_count": null,
      "outputs": [
        {
          "output_type": "display_data",
          "data": {
            "text/plain": [
              "<Figure size 432x288 with 1 Axes>"
            ],
            "image/png": "[encoded data removed]"
          },
          "metadata": {
            "needs_background": "light"
          }
        },
        {
          "output_type": "display_data",
          "data": {
            "text/plain": [
              "<Figure size 432x288 with 1 Axes>"
            ],
            "image/png": "[encoded data removed]"
          },
          "metadata": {
            "needs_background": "light"
          }
        },
        {
          "output_type": "display_data",
          "data": {
            "text/plain": [
              "<Figure size 432x288 with 1 Axes>"
            ],
            "image/png": "[encoded data removed]"
          },
          "metadata": {
            "needs_background": "light"
          }
        }
      ]
    },
    {
      "cell_type": "code",
      "source": [
        "# Making graphs of RBS for all the Group\n",
        "\n",
        "plt.plot(range(10), data['RBS(G2) (D-1)'][:10], label='Common_Group (D-1)')\n",
        "plt.plot(range(10), data['RBS (G2) (D-30)'][:10], label='Common_Group (D-30)')\n",
        "plt.plot(range(10), data['RBS (G2) (D-60)'][:10], label='Common_Group (D-60)')\n",
        "plt.xlabel(\"Person's\")\n",
        "plt.ylabel(\"mmHg\")\n",
        "plt.title(\"Common Group RBS Analysis\")\n",
        "plt.legend(loc='best')\n",
        "plt.show()\n",
        "\n",
        "plt.plot(range(10), data['RBS(G2) (D-1)'][10:20], label='Group_1 (D-1)')\n",
        "plt.plot(range(10), data['RBS (G2) (D-30)'][10:20], label='Group_1 (D-30)')\n",
        "plt.plot(range(10), data['RBS (G2) (D-60)'][10:20], label='Group_1 (D-60)')\n",
        "plt.xlabel(\"Person's\")\n",
        "plt.ylabel(\"mmHg\")\n",
        "plt.title(\"Group_1 RBS Analysis\")\n",
        "plt.legend(loc='best')\n",
        "plt.show()\n",
        "\n",
        "plt.plot(range(10), data['RBS(G2) (D-1)'][20:], label='Group_2 (D-1)')\n",
        "plt.plot(range(10), data['RBS (G2) (D-30)'][20:], label='Group_2 (D-30)')\n",
        "plt.plot(range(10), data['RBS (G2) (D-60)'][20:], label='Group_2 (D-60)')\n",
        "plt.xlabel(\"Person's\")\n",
        "plt.ylabel(\"mmHg\")\n",
        "plt.title(\"Group_2 RBS Analysis\")\n",
        "plt.legend(loc='best')\n",
        "plt.show()"
      ],
      "metadata": {
        "colab": {
          "base_uri": "https://localhost:8080/",
          "height": 851
        },
        "id": "KuWg8smdIXdx",
        "outputId": "a8f7828f-08a6-4798-b865-0de6b090d04d"
      },
      "execution_count": null,
      "outputs": [
        {
          "output_type": "display_data",
          "data": {
            "text/plain": [
              "<Figure size 432x288 with 1 Axes>"
            ],
            "image/png": "[encoded data removed]"
          },
          "metadata": {
            "needs_background": "light"
          }
        },
        {
          "output_type": "display_data",
          "data": {
            "text/plain": [
              "<Figure size 432x288 with 1 Axes>"
            ],
            "image/png": "[encoded data removed]"
          },
          "metadata": {
            "needs_background": "light"
          }
        },
        {
          "output_type": "display_data",
          "data": {
            "text/plain": [
              "<Figure size 432x288 with 1 Axes>"
            ],
            "image/png": "[encoded data removed]"
          },
          "metadata": {
            "needs_background": "light"
          }
        }
      ]
    },
    {
      "cell_type": "code",
      "source": [
        "# Making graphs for all the three Groups\n",
        "\n",
        "plt.plot(range(10), data['HbA1C (D-1)'][:10], label='Common_Group (D-1)')\n",
        "plt.plot(range(10), data['HbA1C (D-60)'][:10], label='Common_Group (D-60)')\n",
        "plt.xlabel(\"Person's\")\n",
        "plt.ylabel(\"mmHg\")\n",
        "plt.title(\"Common Group HbA1C Analysis\")\n",
        "plt.legend(loc='best')\n",
        "plt.show()\n",
        "\n",
        "plt.plot(range(10), data['HbA1C (D-1)'][10:20], label='Group_1 (D-1)')\n",
        "plt.plot(range(10), data['HbA1C (D-60)'][10:20], label='Group_1 (D-60)')\n",
        "plt.xlabel(\"Person's\")\n",
        "plt.ylabel(\"mmHg\")\n",
        "plt.title(\"Group_1 HbA1C Analysis\")\n",
        "plt.legend(loc='best')\n",
        "plt.show()\n",
        "\n",
        "plt.plot(range(10), data['HbA1C (D-1)'][20:], label='Group_2 (D-1)')\n",
        "plt.plot(range(10), data['HbA1C (D-60)'][20:], label='Group_2 (D-60)')\n",
        "plt.xlabel(\"Person's\")\n",
        "plt.ylabel(\"mmHg\")\n",
        "plt.title(\"Group_2 HbA1C Analysis\")\n",
        "plt.legend(loc='best')\n",
        "plt.show()"
      ],
      "metadata": {
        "colab": {
          "base_uri": "https://localhost:8080/",
          "height": 851
        },
        "id": "m6A5vQKqIccB",
        "outputId": "254ce236-b02b-4aa7-e369-463851d91246"
      },
      "execution_count": null,
      "outputs": [
        {
          "output_type": "display_data",
          "data": {
            "text/plain": [
              "<Figure size 432x288 with 1 Axes>"
            ],
            "image/png": "[encoded data removed]"
          },
          "metadata": {
            "needs_background": "light"
          }
        },
        {
          "output_type": "display_data",
          "data": {
            "text/plain": [
              "<Figure size 432x288 with 1 Axes>"
            ],
            "image/png": "[encoded data removed]"
          },
          "metadata": {
            "needs_background": "light"
          }
        },
        {
          "output_type": "display_data",
          "data": {
            "text/plain": [
              "<Figure size 432x288 with 1 Axes>"
            ],
            "image/png": "[encoded data removed]"
          },
          "metadata": {
            "needs_background": "light"
          }
        }
      ]
    },
    {
      "cell_type": "markdown",
      "source": [
        "# Now it's time for some stats games\n"
      ],
      "metadata": {
        "id": "zj2ecRA9OYG1"
      }
    },
    {
      "cell_type": "code",
      "source": [
        "# Blood Pressure Stats\n",
        "data = data.astype({'Systolic (D-1)':int,\n",
        "                    'Diastolic (D-1)':int,\n",
        "                    'Systolic (D-30)':int,\n",
        "                    'Diastolic (D-30)':int,\n",
        "                    'Systolic (D-60)':int,\n",
        "                    'Diastolic (D-60)':int})\n",
        "print(\"Common Group Stats\")\n",
        "print(\"B.P Systolic (D-1) Stats\")\n",
        "print(\"Count: \", len(data['Systolic (D-1)'][:10]))\n",
        "print(\"Mean: \", data['Systolic (D-1)'][:10].mean())\n",
        "print(\"Standard Deviation: \", data['Systolic (D-1)'][:10].std())\n",
        "print(\"Min: \", data['Systolic (D-1)'][:10].min())\n",
        "print(\"First Quantile: \", data['Systolic (D-1)'][:10].quantile(q=0.25))\n",
        "print(\"Median: \", data['Systolic (D-1)'][:10].median())\n",
        "print(\"Third Quantile: \", data['Systolic (D-1)'][:10].quantile(q=0.75))\n",
        "print(\"Max: \", data['Systolic (D-1)'][:10].max())\n",
        "print(\"------------------------------------------------------------------------------------\")\n",
        "print(\"B.P Diastolic (D-1) Stats\")\n",
        "print(\"Count: \", len(data['Diastolic (D-1)'][:10]))\n",
        "print(\"Mean: \", data['Diastolic (D-1)'][:10].mean())\n",
        "print(\"Standard Deviation: \", data['Diastolic (D-1)'][:10].std())\n",
        "print(\"Min: \", data['Diastolic (D-1)'][:10].min())\n",
        "print(\"First Quantile: \", data['Diastolic (D-1)'][:10].quantile(q=0.25))\n",
        "print(\"Median: \", data['Diastolic (D-1)'][:10].median())\n",
        "print(\"Third Quantile: \", data['Diastolic (D-1)'][:10].quantile(q=0.75))\n",
        "print(\"Max: \", data['Diastolic (D-1)'][:10].max())\n",
        "\n",
        "\n",
        "\n",
        "\n",
        "print(\"----------------------------------------------------------------------------------------\")\n",
        "print(\"Common Group Stats\")\n",
        "print(\"B.P Systolic (D-30) Stats\")\n",
        "print(\"Count: \", len(data['Systolic (D-30)'][:10]))\n",
        "print(\"Mean: \", data['Systolic (D-30)'][:10].mean())\n",
        "print(\"Standard Deviation: \", data['Systolic (D-30)'][:10].std())\n",
        "print(\"Min: \", data['Systolic (D-30)'][:10].min())\n",
        "print(\"First Quantile: \", data['Systolic (D-30)'][:10].quantile(q=0.25))\n",
        "print(\"Median: \", data['Systolic (D-30)'][:10].median())\n",
        "print(\"Third Quantile: \", data['Systolic (D-30)'][:10].quantile(q=0.75))\n",
        "print(\"Max: \", data['Systolic (D-30)'][:10].max())\n",
        "print(\"------------------------------------------------------------------------------------\")\n",
        "print(\"B.P Diastolic (D-30) Stats\")\n",
        "print(\"Count: \", len(data['Diastolic (D-30)'][:10]))\n",
        "print(\"Mean: \", data['Diastolic (D-30)'][:10].mean())\n",
        "print(\"Standard Deviation: \", data['Diastolic (D-30)'][:10].std())\n",
        "print(\"Min: \", data['Diastolic (D-30)'][:10].min())\n",
        "print(\"First Quantile: \", data['Diastolic (D-30)'][:10].quantile(q=0.25))\n",
        "print(\"Median: \", data['Diastolic (D-30)'][:10].median())\n",
        "print(\"Third Quantile: \", data['Diastolic (D-30)'][:10].quantile(q=0.75))\n",
        "print(\"Max: \", data['Diastolic (D-30)'][:10].max())\n",
        "\n",
        "print(\"---------------------------------------------------------------------------------------\")\n",
        "print(\"Common Group Stats\")\n",
        "print(\"B.P Systolic (D-60) Stats\")\n",
        "print(\"Count: \", len(data['Systolic (D-60)'][:10]))\n",
        "print(\"Mean: \", data['Systolic (D-60)'][:10].mean())\n",
        "print(\"Standard Deviation: \", data['Systolic (D-60)'][:10].std())\n",
        "print(\"Min: \", data['Systolic (D-60)'][:10].min())\n",
        "print(\"First Quantile: \", data['Systolic (D-60)'][:10].quantile(q=0.25))\n",
        "print(\"Median: \", data['Systolic (D-60)'][:10].median())\n",
        "print(\"Third Quantile: \", data['Systolic (D-60)'][:10].quantile(q=0.75))\n",
        "print(\"Max: \", data['Systolic (D-60)'][:10].max())\n",
        "print(\"------------------------------------------------------------------------------------\")\n",
        "print(\"B.P Diastolic (D-60) Stats\")\n",
        "print(\"Count: \", len(data['Diastolic (D-60)'][:10]))\n",
        "print(\"Mean: \", data['Diastolic (D-60)'][:10].mean())\n",
        "print(\"Standard Deviation: \", data['Diastolic (D-60)'][:10].std())\n",
        "print(\"Min: \", data['Diastolic (D-60)'][:10].min())\n",
        "print(\"First Quantile: \", data['Diastolic (D-60)'][:10].quantile(q=0.25))\n",
        "print(\"Median: \", data['Diastolic (D-60)'][:10].median())\n",
        "print(\"Third Quantile: \", data['Diastolic (D-60)'][:10].quantile(q=0.75))\n",
        "print(\"Max: \", data['Diastolic (D-60)'][:10].max())"
      ],
      "metadata": {
        "id": "Bq_wVfMxZDi9",
        "colab": {
          "base_uri": "https://localhost:8080/",
          "height": 235
        },
        "outputId": "b3247dda-d24e-456c-a11b-239cce53593a"
      },
      "execution_count": null,
      "outputs": [
        {
          "output_type": "error",
          "ename": "NameError",
          "evalue": "ignored",
          "traceback": [
            "\u001b[0;31m---------------------------------------------------------------------------\u001b[0m",
            "\u001b[0;31mNameError\u001b[0m                                 Traceback (most recent call last)",
            "\u001b[0;32m<ipython-input-1-4722dfd894ef>\u001b[0m in \u001b[0;36m<module>\u001b[0;34m()\u001b[0m\n\u001b[1;32m      1\u001b[0m \u001b[0;31m# Blood Pressure Stats\u001b[0m\u001b[0;34m\u001b[0m\u001b[0;34m\u001b[0m\u001b[0;34m\u001b[0m\u001b[0m\n\u001b[0;32m----> 2\u001b[0;31m data = data.astype({'Systolic (D-1)':int,\n\u001b[0m\u001b[1;32m      3\u001b[0m                     \u001b[0;34m'Diastolic (D-1)'\u001b[0m\u001b[0;34m:\u001b[0m\u001b[0mint\u001b[0m\u001b[0;34m,\u001b[0m\u001b[0;34m\u001b[0m\u001b[0;34m\u001b[0m\u001b[0m\n\u001b[1;32m      4\u001b[0m                     \u001b[0;34m'Systolic (D-30)'\u001b[0m\u001b[0;34m:\u001b[0m\u001b[0mint\u001b[0m\u001b[0;34m,\u001b[0m\u001b[0;34m\u001b[0m\u001b[0;34m\u001b[0m\u001b[0m\n\u001b[1;32m      5\u001b[0m                     \u001b[0;34m'Diastolic (D-30)'\u001b[0m\u001b[0;34m:\u001b[0m\u001b[0mint\u001b[0m\u001b[0;34m,\u001b[0m\u001b[0;34m\u001b[0m\u001b[0;34m\u001b[0m\u001b[0m\n",
            "\u001b[0;31mNameError\u001b[0m: name 'data' is not defined"
          ]
        }
      ]
    },
    {
      "cell_type": "code",
      "source": [
        "# Blood Pressure Stats\n",
        "\n",
        "print(\"Group_1 Stats\")\n",
        "print(\"B.P Systolic (D-1) Stats\")\n",
        "print(\"Count: \", len(data['Systolic (D-1)'][10:20]))\n",
        "print(\"Mean: \", data['Systolic (D-1)'][10:20].mean())\n",
        "print(\"Standard Deviation: \", data['Systolic (D-1)'][10:20].std())\n",
        "print(\"Min: \", data['Systolic (D-1)'][10:20].min())\n",
        "print(\"First Quantile: \", data['Systolic (D-1)'][10:20].quantile(q=0.25))\n",
        "print(\"Median: \", data['Systolic (D-1)'][10:20].median())\n",
        "print(\"Third Quantile: \", data['Systolic (D-1)'][10:20].quantile(q=0.75))\n",
        "print(\"Max: \", data['Systolic (D-1)'][10:20].max())\n",
        "print(\"------------------------------------------------------------------------------------\")\n",
        "print(\"B.P Diastolic (D-1) Stats\")\n",
        "print(\"Count: \", len(data['Diastolic (D-1)'][10:20]))\n",
        "print(\"Mean: \", data['Diastolic (D-1)'][10:20].mean())\n",
        "print(\"Standard Deviation: \", data['Diastolic (D-1)'][10:20].std())\n",
        "print(\"Min: \", data['Diastolic (D-1)'][10:20].min())\n",
        "print(\"First Quantile: \", data['Diastolic (D-1)'][10:20].quantile(q=0.25))\n",
        "print(\"Median: \", data['Diastolic (D-1)'][10:20].median())\n",
        "print(\"Third Quantile: \", data['Diastolic (D-1)'][10:20].quantile(q=0.75))\n",
        "print(\"Max: \", data['Diastolic (D-1)'][10:20].max())\n",
        "\n",
        "\n",
        "\n",
        "\n",
        "print(\"----------------------------------------------------------------------------------------\")\n",
        "print(\"Group_1 Stats\")\n",
        "print(\"B.P Systolic (D-30) Stats\")\n",
        "print(\"Count: \", len(data['Systolic (D-30)'][10:20]))\n",
        "print(\"Mean: \", data['Systolic (D-30)'][10:20].mean())\n",
        "print(\"Standard Deviation: \", data['Systolic (D-30)'][10:20].std())\n",
        "print(\"Min: \", data['Systolic (D-30)'][10:20].min())\n",
        "print(\"First Quantile: \", data['Systolic (D-30)'][10:20].quantile(q=0.25))\n",
        "print(\"Median: \", data['Systolic (D-30)'][10:20].median())\n",
        "print(\"Third Quantile: \", data['Systolic (D-30)'][10:20].quantile(q=0.75))\n",
        "print(\"Max: \", data['Systolic (D-30)'][10:20].max())\n",
        "print(\"------------------------------------------------------------------------------------\")\n",
        "print(\"B.P Diastolic (D-30) Stats\")\n",
        "print(\"Count: \", len(data['Diastolic (D-30)'][10:20]))\n",
        "print(\"Mean: \", data['Diastolic (D-30)'][10:20].mean())\n",
        "print(\"Standard Deviation: \", data['Diastolic (D-30)'][10:20].std())\n",
        "print(\"Min: \", data['Diastolic (D-30)'][10:20].min())\n",
        "print(\"First Quantile: \", data['Diastolic (D-30)'][10:20].quantile(q=0.25))\n",
        "print(\"Median: \", data['Diastolic (D-30)'][10:20].median())\n",
        "print(\"Third Quantile: \", data['Diastolic (D-30)'][10:20].quantile(q=0.75))\n",
        "print(\"Max: \", data['Diastolic (D-30)'][10:20].max())\n",
        "\n",
        "print(\"---------------------------------------------------------------------------------------\")\n",
        "print(\"Group_1 Stats\")\n",
        "print(\"B.P Systolic (D-60) Stats\")\n",
        "print(\"Count: \", len(data['Systolic (D-60)'][10:20]))\n",
        "print(\"Mean: \", data['Systolic (D-60)'][10:20].mean())\n",
        "print(\"Standard Deviation: \", data['Systolic (D-60)'][10:20].std())\n",
        "print(\"Min: \", data['Systolic (D-60)'][10:20].min())\n",
        "print(\"First Quantile: \", data['Systolic (D-60)'][10:20].quantile(q=0.25))\n",
        "print(\"Median: \", data['Systolic (D-60)'][10:20].median())\n",
        "print(\"Third Quantile: \", data['Systolic (D-60)'][10:20].quantile(q=0.75))\n",
        "print(\"Max: \", data['Systolic (D-60)'][10:20].max())\n",
        "print(\"------------------------------------------------------------------------------------\")\n",
        "print(\"B.P Diastolic (D-60) Stats\")\n",
        "print(\"Count: \", len(data['Diastolic (D-60)'][10:20]))\n",
        "print(\"Mean: \", data['Diastolic (D-60)'][10:20].mean())\n",
        "print(\"Standard Deviation: \", data['Diastolic (D-60)'][10:20].std())\n",
        "print(\"Min: \", data['Diastolic (D-60)'][10:20].min())\n",
        "print(\"First Quantile: \", data['Diastolic (D-60)'][10:20].quantile(q=0.25))\n",
        "print(\"Median: \", data['Diastolic (D-60)'][10:20].median())\n",
        "print(\"Third Quantile: \", data['Diastolic (D-60)'][10:20].quantile(q=0.75))\n",
        "print(\"Max: \", data['Diastolic (D-60)'][10:20].max())"
      ],
      "metadata": {
        "colab": {
          "base_uri": "https://localhost:8080/"
        },
        "id": "1Nny4VDIU9-z",
        "outputId": "a25d1466-6dc6-4d9a-a2fb-97bbe8aadb73"
      },
      "execution_count": null,
      "outputs": [
        {
          "output_type": "stream",
          "name": "stdout",
          "text": [
            "Group_1 Stats\n",
            "B.P Systolic (D-1) Stats\n",
            "Count:  10\n",
            "Mean:  161.7\n",
            "Standard Deviation:  20.00027777584879\n",
            "Min:  135\n",
            "First Quantile:  146.25\n",
            "Median:  160.0\n",
            "Third Quantile:  168.75\n",
            "Max:  200\n",
            "------------------------------------------------------------------------------------\n",
            "B.P Diastolic (D-1) Stats\n",
            "Count:  10\n",
            "Mean:  88.8\n",
            "Standard Deviation:  3.6147844564602556\n",
            "Min:  82\n",
            "First Quantile:  87.25\n",
            "Median:  89.5\n",
            "Third Quantile:  90.0\n",
            "Max:  95\n",
            "----------------------------------------------------------------------------------------\n",
            "Group_1 Stats\n",
            "B.P Systolic (D-30) Stats\n",
            "Count:  10\n",
            "Mean:  159.3\n",
            "Standard Deviation:  19.905610599359502\n",
            "Min:  133\n",
            "First Quantile:  144.0\n",
            "Median:  158.0\n",
            "Third Quantile:  166.0\n",
            "Max:  197\n",
            "------------------------------------------------------------------------------------\n",
            "B.P Diastolic (D-30) Stats\n",
            "Count:  10\n",
            "Mean:  86.6\n",
            "Standard Deviation:  3.1692971530679235\n",
            "Min:  81\n",
            "First Quantile:  84.75\n",
            "Median:  87.0\n",
            "Third Quantile:  87.75\n",
            "Max:  93\n",
            "---------------------------------------------------------------------------------------\n",
            "Group_1 Stats\n",
            "B.P Systolic (D-60) Stats\n",
            "Count:  10\n",
            "Mean:  153.7\n",
            "Standard Deviation:  18.055777776410274\n",
            "Min:  131\n",
            "First Quantile:  140.0\n",
            "Median:  151.0\n",
            "Third Quantile:  159.75\n",
            "Max:  190\n",
            "------------------------------------------------------------------------------------\n",
            "B.P Diastolic (D-60) Stats\n",
            "Count:  10\n",
            "Mean:  83.6\n",
            "Standard Deviation:  2.5473297566057065\n",
            "Min:  80\n",
            "First Quantile:  82.0\n",
            "Median:  84.5\n",
            "Third Quantile:  85.0\n",
            "Max:  88\n"
          ]
        }
      ]
    },
    {
      "cell_type": "code",
      "source": [
        "# Blood Pressure Stats\n",
        "print(\"Group_2 Stats\")\n",
        "print(\"B.P Systolic (D-1) Stats\")\n",
        "print(\"Count: \", len(data['Systolic (D-1)'][20:]))\n",
        "print(\"Mean: \", data['Systolic (D-1)'][20:].mean())\n",
        "print(\"Standard Deviation: \", data['Systolic (D-1)'][20:].std())\n",
        "print(\"Min: \", data['Systolic (D-1)'][20:].min())\n",
        "print(\"First Quantile: \", data['Systolic (D-1)'][20:].quantile(q=0.25))\n",
        "print(\"Median: \", data['Systolic (D-1)'][20:].median())\n",
        "print(\"Third Quantile: \", data['Systolic (D-1)'][20:].quantile(q=0.75))\n",
        "print(\"Max: \", data['Systolic (D-1)'][20:].max())\n",
        "print(\"------------------------------------------------------------------------------------\")\n",
        "print(\"B.P Diastolic (D-1) Stats\")\n",
        "print(\"Count: \", len(data['Diastolic (D-1)'][20:]))\n",
        "print(\"Mean: \", data['Diastolic (D-1)'][20:].mean())\n",
        "print(\"Standard Deviation: \", data['Diastolic (D-1)'][20:].std())\n",
        "print(\"Min: \", data['Diastolic (D-1)'][20:].min())\n",
        "print(\"First Quantile: \", data['Diastolic (D-1)'][20:].quantile(q=0.25))\n",
        "print(\"Median: \", data['Diastolic (D-1)'][20:].median())\n",
        "print(\"Third Quantile: \", data['Diastolic (D-1)'][20:].quantile(q=0.75))\n",
        "print(\"Max: \", data['Diastolic (D-1)'][20:].max())\n",
        "\n",
        "\n",
        "\n",
        "\n",
        "print(\"----------------------------------------------------------------------------------------\")\n",
        "print(\"Group_2 Stats\")\n",
        "print(\"B.P Systolic (D-30) Stats\")\n",
        "print(\"Count: \", len(data['Systolic (D-30)'][20:]))\n",
        "print(\"Mean: \", data['Systolic (D-30)'][20:].mean())\n",
        "print(\"Standard Deviation: \", data['Systolic (D-30)'][20:].std())\n",
        "print(\"Min: \", data['Systolic (D-30)'][20:].min())\n",
        "print(\"First Quantile: \", data['Systolic (D-30)'][20:].quantile(q=0.25))\n",
        "print(\"Median: \", data['Systolic (D-30)'][20:].median())\n",
        "print(\"Third Quantile: \", data['Systolic (D-30)'][20:].quantile(q=0.75))\n",
        "print(\"Max: \", data['Systolic (D-30)'][20:].max())\n",
        "print(\"------------------------------------------------------------------------------------\")\n",
        "print(\"B.P Diastolic (D-30) Stats\")\n",
        "print(\"Count: \", len(data['Diastolic (D-30)'][20:]))\n",
        "print(\"Mean: \", data['Diastolic (D-30)'][20:].mean())\n",
        "print(\"Standard Deviation: \", data['Diastolic (D-30)'][20:].std())\n",
        "print(\"Min: \", data['Diastolic (D-30)'][20:].min())\n",
        "print(\"First Quantile: \", data['Diastolic (D-30)'][20:].quantile(q=0.25))\n",
        "print(\"Median: \", data['Diastolic (D-30)'][20:].median())\n",
        "print(\"Third Quantile: \", data['Diastolic (D-30)'][20:].quantile(q=0.75))\n",
        "print(\"Max: \", data['Diastolic (D-30)'][20:].max())\n",
        "\n",
        "print(\"---------------------------------------------------------------------------------------\")\n",
        "print(\"Group_2 Stats\")\n",
        "print(\"B.P Systolic (D-60) Stats\")\n",
        "print(\"Count: \", len(data['Systolic (D-60)'][20:]))\n",
        "print(\"Mean: \", data['Systolic (D-60)'][20:].mean())\n",
        "print(\"Standard Deviation: \", data['Systolic (D-60)'][20:].std())\n",
        "print(\"Min: \", data['Systolic (D-60)'][20:].min())\n",
        "print(\"First Quantile: \", data['Systolic (D-60)'][20:].quantile(q=0.25))\n",
        "print(\"Median: \", data['Systolic (D-60)'][20:].median())\n",
        "print(\"Third Quantile: \", data['Systolic (D-60)'][20:].quantile(q=0.75))\n",
        "print(\"Max: \", data['Systolic (D-60)'][20:].max())\n",
        "print(\"------------------------------------------------------------------------------------\")\n",
        "print(\"B.P Diastolic (D-60) Stats\")\n",
        "print(\"Count: \", len(data['Diastolic (D-60)'][20:]))\n",
        "print(\"Mean: \", data['Diastolic (D-60)'][20:].mean())\n",
        "print(\"Standard Deviation: \", data['Diastolic (D-60)'][20:].std())\n",
        "print(\"Min: \", data['Diastolic (D-60)'][20:].min())\n",
        "print(\"First Quantile: \", data['Diastolic (D-60)'][20:].quantile(q=0.25))\n",
        "print(\"Median: \", data['Diastolic (D-60)'][20:].median())\n",
        "print(\"Third Quantile: \", data['Diastolic (D-60)'][20:].quantile(q=0.75))\n",
        "print(\"Max: \", data['Diastolic (D-60)'][20:].max())"
      ],
      "metadata": {
        "colab": {
          "base_uri": "https://localhost:8080/"
        },
        "id": "KpVbkp3eWjhk",
        "outputId": "5222caec-98ce-4b5f-fbc5-4b36faa929eb"
      },
      "execution_count": null,
      "outputs": [
        {
          "output_type": "stream",
          "name": "stdout",
          "text": [
            "Group_2 Stats\n",
            "B.P Systolic (D-1) Stats\n",
            "Count:  10\n",
            "Mean:  176.2\n",
            "Standard Deviation:  15.433009355850782\n",
            "Min:  145\n",
            "First Quantile:  172.0\n",
            "Median:  178.5\n",
            "Third Quantile:  184.0\n",
            "Max:  200\n",
            "------------------------------------------------------------------------------------\n",
            "B.P Diastolic (D-1) Stats\n",
            "Count:  10\n",
            "Mean:  90.3\n",
            "Standard Deviation:  3.5916569992135945\n",
            "Min:  85\n",
            "First Quantile:  88.5\n",
            "Median:  90.0\n",
            "Third Quantile:  92.75\n",
            "Max:  95\n",
            "----------------------------------------------------------------------------------------\n",
            "Group_2 Stats\n",
            "B.P Systolic (D-30) Stats\n",
            "Count:  10\n",
            "Mean:  170.5\n",
            "Standard Deviation:  13.268592824996762\n",
            "Min:  143\n",
            "First Quantile:  165.0\n",
            "Median:  172.0\n",
            "Third Quantile:  179.25\n",
            "Max:  187\n",
            "------------------------------------------------------------------------------------\n",
            "B.P Diastolic (D-30) Stats\n",
            "Count:  10\n",
            "Mean:  85.3\n",
            "Standard Deviation:  3.368151487751768\n",
            "Min:  80\n",
            "First Quantile:  82.25\n",
            "Median:  86.0\n",
            "Third Quantile:  88.0\n",
            "Max:  90\n",
            "---------------------------------------------------------------------------------------\n",
            "Group_2 Stats\n",
            "B.P Systolic (D-60) Stats\n",
            "Count:  10\n",
            "Mean:  166.4\n",
            "Standard Deviation:  13.023056476879766\n",
            "Min:  140\n",
            "First Quantile:  160.5\n",
            "Median:  167.0\n",
            "Third Quantile:  176.0\n",
            "Max:  184\n",
            "------------------------------------------------------------------------------------\n",
            "B.P Diastolic (D-60) Stats\n",
            "Count:  10\n",
            "Mean:  81.3\n",
            "Standard Deviation:  1.888562063228706\n",
            "Min:  79\n",
            "First Quantile:  80.0\n",
            "Median:  81.5\n",
            "Third Quantile:  82.0\n",
            "Max:  85\n"
          ]
        }
      ]
    },
    {
      "cell_type": "code",
      "source": [
        "# RBS Stats\n",
        "\n",
        "print(\"Common Group Stats\")\n",
        "print(\"RBS(G2) (D-1) Stats\")\n",
        "print(\"Count: \", len(data['RBS(G2) (D-1)'][:10]))\n",
        "print(\"Mean: \", data['RBS(G2) (D-1)'][:10].mean())\n",
        "print(\"Standard Deviation: \", data['RBS(G2) (D-1)'][:10].std())\n",
        "print(\"Min: \", data['RBS(G2) (D-1)'][:10].min())\n",
        "print(\"First Quantile: \", data['RBS(G2) (D-1)'][:10].quantile(q=0.25))\n",
        "print(\"Median: \", data['RBS(G2) (D-1)'][:10].median())\n",
        "print(\"Third Quantile: \", data['RBS(G2) (D-1)'][:10].quantile(q=0.75))\n",
        "print(\"Max: \", data['RBS(G2) (D-1)'][:10].max())\n",
        "\n",
        "\n",
        "\n",
        "\n",
        "\n",
        "print(\"----------------------------------------------------------------------------------------\")\n",
        "print(\"Common Group Stats\")\n",
        "print(\"B.P RBS (G2) (D-30) Stats\")\n",
        "print(\"Count: \", len(data['RBS (G2) (D-30)'][:10]))\n",
        "print(\"Mean: \", data['RBS (G2) (D-30)'][:10].mean())\n",
        "print(\"Standard Deviation: \", data['RBS (G2) (D-30)'][:10].std())\n",
        "print(\"Min: \", data['RBS (G2) (D-30)'][:10].min())\n",
        "print(\"First Quantile: \", data['RBS (G2) (D-30)'][:10].quantile(q=0.25))\n",
        "print(\"Median: \", data['RBS (G2) (D-30)'][:10].median())\n",
        "print(\"Third Quantile: \", data['RBS (G2) (D-30)'][:10].quantile(q=0.75))\n",
        "print(\"Max: \", data['RBS (G2) (D-30)'][:10].max())\n",
        "\n",
        "\n",
        "print(\"---------------------------------------------------------------------------------------\")\n",
        "print(\"Common Group Stats\")\n",
        "print(\"B.P RBS (G2) (D-60) Stats\")\n",
        "print(\"Count: \", len(data['RBS (G2) (D-60)'][:10]))\n",
        "print(\"Mean: \", data['RBS (G2) (D-60)'][:10].mean())\n",
        "print(\"Standard Deviation: \", data['RBS (G2) (D-60)'][:10].std())\n",
        "print(\"Min: \", data['RBS (G2) (D-60)'][:10].min())\n",
        "print(\"First Quantile: \", data['RBS (G2) (D-60)'][:10].quantile(q=0.25))\n",
        "print(\"Median: \", data['RBS (G2) (D-60)'][:10].median())\n",
        "print(\"Third Quantile: \", data['RBS (G2) (D-60)'][:10].quantile(q=0.75))\n",
        "print(\"Max: \", data['RBS (G2) (D-60)'][:10].max())\n"
      ],
      "metadata": {
        "colab": {
          "base_uri": "https://localhost:8080/"
        },
        "id": "843OM4wYMNUx",
        "outputId": "f70510d7-78bf-41e1-ee8e-2ed5631d33ba"
      },
      "execution_count": null,
      "outputs": [
        {
          "output_type": "stream",
          "name": "stdout",
          "text": [
            "Common Group Stats\n",
            "RBS(G2) (D-1) Stats\n",
            "Count:  10\n",
            "Mean:  187.8\n",
            "Standard Deviation:  13.348324905312195\n",
            "Min:  173\n",
            "First Quantile:  182.0\n",
            "Median:  185.5\n",
            "Third Quantile:  188.75\n",
            "Max:  220\n",
            "----------------------------------------------------------------------------------------\n",
            "Common Group Stats\n",
            "B.P RBS (G2) (D-30) Stats\n",
            "Count:  10\n",
            "Mean:  187.8\n",
            "Standard Deviation:  13.348324905312195\n",
            "Min:  173\n",
            "First Quantile:  182.0\n",
            "Median:  185.5\n",
            "Third Quantile:  188.75\n",
            "Max:  220\n",
            "---------------------------------------------------------------------------------------\n",
            "Common Group Stats\n",
            "B.P RBS (G2) (D-60) Stats\n",
            "Count:  10\n",
            "Mean:  187.8\n",
            "Standard Deviation:  13.348324905312195\n",
            "Min:  173\n",
            "First Quantile:  182.0\n",
            "Median:  185.5\n",
            "Third Quantile:  188.75\n",
            "Max:  220\n"
          ]
        }
      ]
    },
    {
      "cell_type": "code",
      "source": [
        "# RBS Stats\n",
        "\n",
        "print(\"Group_1 Stats\")\n",
        "print(\"RBS(G2) (D-1) Stats\")\n",
        "print(\"Count: \", len(data['RBS(G2) (D-1)'][10:20]))\n",
        "print(\"Mean: \", data['RBS(G2) (D-1)'][10:20].mean())\n",
        "print(\"Standard Deviation: \", data['RBS(G2) (D-1)'][10:20].std())\n",
        "print(\"Min: \", data['RBS(G2) (D-1)'][10:20].min())\n",
        "print(\"First Quantile: \", data['RBS(G2) (D-1)'][10:20].quantile(q=0.25))\n",
        "print(\"Median: \", data['RBS(G2) (D-1)'][10:20].median())\n",
        "print(\"Third Quantile: \", data['RBS(G2) (D-1)'][10:20].quantile(q=0.75))\n",
        "print(\"Max: \", data['RBS(G2) (D-1)'][10:20].max())\n",
        "\n",
        "\n",
        "\n",
        "print(\"----------------------------------------------------------------------------------------\")\n",
        "print(\"Group_1 Stats\")\n",
        "print(\"RBS (G2) (D-30) Stats\")\n",
        "print(\"Count: \", len(data['RBS (G2) (D-30)'][10:20]))\n",
        "print(\"Mean: \", data['RBS (G2) (D-30)'][10:20].mean())\n",
        "print(\"Standard Deviation: \", data['RBS (G2) (D-30)'][10:20].std())\n",
        "print(\"Min: \", data['RBS (G2) (D-30)'][10:20].min())\n",
        "print(\"First Quantile: \", data['RBS (G2) (D-30)'][10:20].quantile(q=0.25))\n",
        "print(\"Median: \", data['RBS (G2) (D-30)'][10:20].median())\n",
        "print(\"Third Quantile: \", data['RBS (G2) (D-30)'][10:20].quantile(q=0.75))\n",
        "print(\"Max: \", data['RBS (G2) (D-30)'][10:20].max())\n",
        "\n",
        "\n",
        "\n",
        "\n",
        "print(\"---------------------------------------------------------------------------------------\")\n",
        "print(\"Group_1 Stats\")\n",
        "print(\"RBS (G2) (D-60) Stats\")\n",
        "print(\"Count: \", len(data['RBS (G2) (D-60)'][10:20]))\n",
        "print(\"Mean: \", data['RBS (G2) (D-60)'][10:20].mean())\n",
        "print(\"Standard Deviation: \", data['RBS (G2) (D-60)'][10:20].std())\n",
        "print(\"Min: \", data['RBS (G2) (D-60)'][10:20].min())\n",
        "print(\"First Quantile: \", data['RBS (G2) (D-60)'][10:20].quantile(q=0.25))\n",
        "print(\"Median: \", data['RBS (G2) (D-60)'][10:20].median())\n",
        "print(\"Third Quantile: \", data['RBS (G2) (D-60)'][10:20].quantile(q=0.75))\n",
        "print(\"Max: \", data['RBS (G2) (D-60)'][10:20].max())"
      ],
      "metadata": {
        "colab": {
          "base_uri": "https://localhost:8080/"
        },
        "id": "PlFTTFXYMG4m",
        "outputId": "266052d2-e9a9-48aa-bbdf-ca41a41f66e3"
      },
      "execution_count": null,
      "outputs": [
        {
          "output_type": "stream",
          "name": "stdout",
          "text": [
            "Group_1 Stats\n",
            "RBS(G2) (D-1) Stats\n",
            "Count:  10\n",
            "Mean:  202.2\n",
            "Standard Deviation:  28.08637471167193\n",
            "Min:  176\n",
            "First Quantile:  184.75\n",
            "Median:  191.5\n",
            "Third Quantile:  213.75\n",
            "Max:  270\n",
            "----------------------------------------------------------------------------------------\n",
            "Group_1 Stats\n",
            "RBS (G2) (D-30) Stats\n",
            "Count:  10\n",
            "Mean:  190.5\n",
            "Standard Deviation:  24.595618399309345\n",
            "Min:  169\n",
            "First Quantile:  175.25\n",
            "Median:  181.0\n",
            "Third Quantile:  196.25\n",
            "Max:  250\n",
            "---------------------------------------------------------------------------------------\n",
            "Group_1 Stats\n",
            "RBS (G2) (D-60) Stats\n",
            "Count:  10\n",
            "Mean:  182.3\n",
            "Standard Deviation:  24.74334927477146\n",
            "Min:  158\n",
            "First Quantile:  167.75\n",
            "Median:  174.5\n",
            "Third Quantile:  189.75\n",
            "Max:  242\n"
          ]
        }
      ]
    },
    {
      "cell_type": "code",
      "source": [
        "# RBS Stats\n",
        "print(\"Group_2 Stats\")\n",
        "print(\"RBS(G2) (D-1) Stats\")\n",
        "print(\"Count: \", len(data['RBS(G2) (D-1)'][20:]))\n",
        "print(\"Mean: \", data['RBS(G2) (D-1)'][20:].mean())\n",
        "print(\"Standard Deviation: \", data['RBS(G2) (D-1)'][20:].std())\n",
        "print(\"Min: \", data['RBS(G2) (D-1)'][20:].min())\n",
        "print(\"First Quantile: \", data['RBS(G2) (D-1)'][20:].quantile(q=0.25))\n",
        "print(\"Median: \", data['RBS(G2) (D-1)'][20:].median())\n",
        "print(\"Third Quantile: \", data['RBS(G2) (D-1)'][20:].quantile(q=0.75))\n",
        "print(\"Max: \", data['RBS(G2) (D-1)'][20:].max())\n",
        "\n",
        "\n",
        "print(\"----------------------------------------------------------------------------------------\")\n",
        "print(\"Group_2 Stats\")\n",
        "print(\"RBS (G2) (D-30) Stats\")\n",
        "print(\"Count: \", len(data['RBS (G2) (D-30)'][20:]))\n",
        "print(\"Mean: \", data['RBS (G2) (D-30)'][20:].mean())\n",
        "print(\"Standard Deviation: \", data['RBS (G2) (D-30)'][20:].std())\n",
        "print(\"Min: \", data['RBS (G2) (D-30)'][20:].min())\n",
        "print(\"First Quantile: \", data['RBS (G2) (D-30)'][20:].quantile(q=0.25))\n",
        "print(\"Median: \", data['RBS (G2) (D-30)'][20:].median())\n",
        "print(\"Third Quantile: \", data['RBS (G2) (D-30)'][20:].quantile(q=0.75))\n",
        "print(\"Max: \", data['RBS (G2) (D-30)'][20:].max())\n",
        "\n",
        "\n",
        "print(\"---------------------------------------------------------------------------------------\")\n",
        "print(\"Group_2 Stats\")\n",
        "print(\"RBS (G2) (D-60) Stats\")\n",
        "print(\"Count: \", len(data['RBS (G2) (D-60)'][20:]))\n",
        "print(\"Mean: \", data['RBS (G2) (D-60)'][20:].mean())\n",
        "print(\"Standard Deviation: \", data['RBS (G2) (D-60)'][20:].std())\n",
        "print(\"Min: \", data['RBS (G2) (D-60)'][20:].min())\n",
        "print(\"First Quantile: \", data['RBS (G2) (D-60)'][20:].quantile(q=0.25))\n",
        "print(\"Median: \", data['RBS (G2) (D-60)'][20:].median())\n",
        "print(\"Third Quantile: \", data['RBS (G2) (D-60)'][20:].quantile(q=0.75))\n",
        "print(\"Max: \", data['RBS (G2) (D-60)'][20:].max())\n"
      ],
      "metadata": {
        "id": "N346-H4oXohX",
        "colab": {
          "base_uri": "https://localhost:8080/"
        },
        "outputId": "25186467-fc46-4f68-cd0a-3a24a49a9e6a"
      },
      "execution_count": null,
      "outputs": [
        {
          "output_type": "stream",
          "name": "stdout",
          "text": [
            "Group_2 Stats\n",
            "RBS(G2) (D-1) Stats\n",
            "Count:  10\n",
            "Mean:  245.8\n",
            "Standard Deviation:  53.07185904245509\n",
            "Min:  182\n",
            "First Quantile:  194.5\n",
            "Median:  248.5\n",
            "Third Quantile:  287.0\n",
            "Max:  320\n",
            "----------------------------------------------------------------------------------------\n",
            "Group_2 Stats\n",
            "RBS (G2) (D-30) Stats\n",
            "Count:  10\n",
            "Mean:  226.8\n",
            "Standard Deviation:  52.96288008281523\n",
            "Min:  164\n",
            "First Quantile:  179.25\n",
            "Median:  229.5\n",
            "Third Quantile:  274.5\n",
            "Max:  291\n",
            "---------------------------------------------------------------------------------------\n",
            "Group_2 Stats\n",
            "RBS (G2) (D-60) Stats\n",
            "Count:  10\n",
            "Mean:  218.4\n",
            "Standard Deviation:  53.15637308921668\n",
            "Min:  155\n",
            "First Quantile:  171.5\n",
            "Median:  220.5\n",
            "Third Quantile:  263.0\n",
            "Max:  287\n"
          ]
        }
      ]
    },
    {
      "cell_type": "code",
      "source": [
        "# HbA1C Stats\n",
        "\n",
        "print(\"Common Group Stats\")\n",
        "print(\"HbA1C (D-1) Stats\")\n",
        "print(\"Count: \", len(data['HbA1C (D-1)'][:10]))\n",
        "print(\"Mean: \", data['HbA1C (D-1)'][:10].mean())\n",
        "print(\"Standard Deviation: \", data['HbA1C (D-1)'][:10].std())\n",
        "print(\"Min: \", data['HbA1C (D-1)'][:10].min())\n",
        "print(\"First Quantile: \", data['HbA1C (D-1)'][:10].quantile(q=0.25))\n",
        "print(\"Median: \", data['HbA1C (D-1)'][:10].median())\n",
        "print(\"Third Quantile: \", data['HbA1C (D-1)'][:10].quantile(q=0.75))\n",
        "print(\"Max: \", data['HbA1C (D-1)'][:10].max())\n",
        "\n",
        "\n",
        "\n",
        "print(\"---------------------------------------------------------------------------------------\")\n",
        "print(\"Common Group Stats\")\n",
        "print(\"HbA1C (D-60) Stats\")\n",
        "print(\"Count: \", len(data['HbA1C (D-60)'][:10]))\n",
        "print(\"Mean: \", data['HbA1C (D-60)'][:10].mean())\n",
        "print(\"Standard Deviation: \", data['HbA1C (D-60)'][:10].std())\n",
        "print(\"Min: \", data['HbA1C (D-60)'][:10].min())\n",
        "print(\"First Quantile: \", data['HbA1C (D-60)'][:10].quantile(q=0.25))\n",
        "print(\"Median: \", data['HbA1C (D-60)'][:10].median())\n",
        "print(\"Third Quantile: \", data['HbA1C (D-60)'][:10].quantile(q=0.75))\n",
        "print(\"Max: \", data['HbA1C (D-60)'][:10].max())\n"
      ],
      "metadata": {
        "colab": {
          "base_uri": "https://localhost:8080/"
        },
        "id": "zYVFhJy2Oo2g",
        "outputId": "72a1c033-e59a-40f2-cbc0-0b1dd818a69d"
      },
      "execution_count": null,
      "outputs": [
        {
          "output_type": "stream",
          "name": "stdout",
          "text": [
            "Common Group Stats\n",
            "HbA1C (D-1) Stats\n",
            "Count:  10\n",
            "Mean:  7.07\n",
            "Standard Deviation:  0.3653004851412662\n",
            "Min:  6.6\n",
            "First Quantile:  6.8\n",
            "Median:  7.0\n",
            "Third Quantile:  7.425\n",
            "Max:  7.6\n",
            "---------------------------------------------------------------------------------------\n",
            "Common Group Stats\n",
            "HbA1C (D-60) Stats\n",
            "Count:  10\n",
            "Mean:  7.07\n",
            "Standard Deviation:  0.3653004851412662\n",
            "Min:  6.6\n",
            "First Quantile:  6.8\n",
            "Median:  7.0\n",
            "Third Quantile:  7.425\n",
            "Max:  7.6\n"
          ]
        }
      ]
    },
    {
      "cell_type": "code",
      "source": [
        "# HbA1C Stats\n",
        "\n",
        "print(\"Group_1 Stats\")\n",
        "print(\"HbA1C (D-1) Stats\")\n",
        "print(\"Count: \", len(data['HbA1C (D-1)'][10:20]))\n",
        "print(\"Mean: \", data['HbA1C (D-1)'][10:20].mean())\n",
        "print(\"Standard Deviation: \", data['HbA1C (D-1)'][10:20].std())\n",
        "print(\"Min: \", data['HbA1C (D-1)'][10:20].min())\n",
        "print(\"First Quantile: \", data['HbA1C (D-1)'][10:20].quantile(q=0.25))\n",
        "print(\"Median: \", data['HbA1C (D-1)'][10:20].median())\n",
        "print(\"Third Quantile: \", data['HbA1C (D-1)'][10:20].quantile(q=0.75))\n",
        "print(\"Max: \", data['HbA1C (D-1)'][10:20].max())\n",
        "\n",
        "\n",
        "\n",
        "print(\"---------------------------------------------------------------------------------------\")\n",
        "print(\"Group_1 Stats\")\n",
        "print(\"HbA1C (D-60) Stats\")\n",
        "print(\"Count: \", len(data['HbA1C (D-60)'][10:20]))\n",
        "print(\"Mean: \", data['HbA1C (D-60)'][10:20].mean())\n",
        "print(\"Standard Deviation: \", data['HbA1C (D-60)'][10:20].std())\n",
        "print(\"Min: \", data['HbA1C (D-60)'][10:20].min())\n",
        "print(\"First Quantile: \", data['HbA1C (D-60)'][10:20].quantile(q=0.25))\n",
        "print(\"Median: \", data['HbA1C (D-60)'][10:20].median())\n",
        "print(\"Third Quantile: \", data['HbA1C (D-60)'][10:20].quantile(q=0.75))\n",
        "print(\"Max: \", data['HbA1C (D-60)'][10:20].max())"
      ],
      "metadata": {
        "colab": {
          "base_uri": "https://localhost:8080/"
        },
        "id": "H-03fZXOO25L",
        "outputId": "ff27dd67-ce0a-45d4-a339-83ae16462291"
      },
      "execution_count": null,
      "outputs": [
        {
          "output_type": "stream",
          "name": "stdout",
          "text": [
            "Group_1 Stats\n",
            "HbA1C (D-1) Stats\n",
            "Count:  10\n",
            "Mean:  6.970000000000001\n",
            "Standard Deviation:  0.2496664441476534\n",
            "Min:  6.7\n",
            "First Quantile:  6.8\n",
            "Median:  6.9\n",
            "Third Quantile:  7.15\n",
            "Max:  7.4\n",
            "---------------------------------------------------------------------------------------\n",
            "Group_1 Stats\n",
            "HbA1C (D-60) Stats\n",
            "Count:  10\n",
            "Mean:  6.7299999999999995\n",
            "Standard Deviation:  0.2359378449224851\n",
            "Min:  6.5\n",
            "First Quantile:  6.525\n",
            "Median:  6.65\n",
            "Third Quantile:  6.875\n",
            "Max:  7.1\n"
          ]
        }
      ]
    },
    {
      "cell_type": "code",
      "source": [
        "# HbA1C Stats\n",
        "print(\"Group_2 Stats\")\n",
        "print(\"HbA1C (D-1) Stats\")\n",
        "print(\"Count: \", len(data['HbA1C (D-1)'][20:]))\n",
        "print(\"Mean: \", data['HbA1C (D-1)'][20:].mean())\n",
        "print(\"Standard Deviation: \", data['HbA1C (D-1)'][20:].std())\n",
        "print(\"Min: \", data['HbA1C (D-1)'][20:].min())\n",
        "print(\"First Quantile: \", data['HbA1C (D-1)'][20:].quantile(q=0.25))\n",
        "print(\"Median: \", data['HbA1C (D-1)'][20:].median())\n",
        "print(\"Third Quantile: \", data['HbA1C (D-1)'][20:].quantile(q=0.75))\n",
        "print(\"Max: \", data['HbA1C (D-1)'][20:].max())\n",
        "\n",
        "\n",
        "print(\"---------------------------------------------------------------------------------------\")\n",
        "print(\"Group_2 Stats\")\n",
        "print(\"HbA1C (D-60) Stats\")\n",
        "print(\"Count: \", len(data['HbA1C (D-60)'][20:]))\n",
        "print(\"Mean: \", data['HbA1C (D-60)'][20:].mean())\n",
        "print(\"Standard Deviation: \", data['HbA1C (D-60)'][20:].std())\n",
        "print(\"Min: \", data['HbA1C (D-60)'][20:].min())\n",
        "print(\"First Quantile: \", data['HbA1C (D-60)'][20:].quantile(q=0.25))\n",
        "print(\"Median: \", data['HbA1C (D-60)'][20:].median())\n",
        "print(\"Third Quantile: \", data['HbA1C (D-60)'][20:].quantile(q=0.75))\n",
        "print(\"Max: \", data['HbA1C (D-60)'][20:].max())\n"
      ],
      "metadata": {
        "colab": {
          "base_uri": "https://localhost:8080/"
        },
        "id": "0DP916j9O6BU",
        "outputId": "6524e9ab-b348-4839-c21f-ff2d03d18ab8"
      },
      "execution_count": null,
      "outputs": [
        {
          "output_type": "stream",
          "name": "stdout",
          "text": [
            "Group_2 Stats\n",
            "HbA1C (D-1) Stats\n",
            "Count:  10\n",
            "Mean:  7.07\n",
            "Standard Deviation:  0.3653004851412662\n",
            "Min:  6.6\n",
            "First Quantile:  6.8\n",
            "Median:  7.0\n",
            "Third Quantile:  7.425\n",
            "Max:  7.6\n",
            "---------------------------------------------------------------------------------------\n",
            "Group_2 Stats\n",
            "HbA1C (D-60) Stats\n",
            "Count:  10\n",
            "Mean:  6.6\n",
            "Standard Deviation:  0.3366501646120691\n",
            "Min:  6.2\n",
            "First Quantile:  6.325\n",
            "Median:  6.6\n",
            "Third Quantile:  6.775\n",
            "Max:  7.1\n"
          ]
        }
      ]
    },
    {
      "cell_type": "markdown",
      "source": [
        "# Hypothesis Testing\n",
        "## Now we start working on hypothesis testing. There are 4 tests in hypothesis testing\n",
        "1. T-Test [One-Sample T-Test, Two-Sample T-Test, Paired-Sample T-Test]\n",
        "2. Z Test\n",
        "3. ANOVA Test\n",
        "4. Chi-Square Test\n",
        "\n",
        " For the samples test our null hypothesis is that the patient has no disease.\n",
        "  "
      ],
      "metadata": {
        "id": "RVX3nsCcQ56l"
      }
    },
    {
      "cell_type": "code",
      "source": [
        "# One sample t-test\n",
        "# our systolic hypothesised mean is 120 and diastolic hypothesised mean is 80. Common groups first day has no effect so we only calculate day-30 and day-60\n",
        "\n",
        "# For B.P\n",
        "\n",
        "systolic_BP_mean = data['Systolic (D-30)'].mean()\n",
        "print(systolic_BP_mean)\n",
        "tset, pval = stats.ttest_1samp(systolic_BP_mean, 120)\n",
        "print('p-values',pval)\n",
        "if pval < 0.05:    # alpha value is 0.05 or 5%\n",
        "   print(\" we are rejecting null hypothesis\")\n",
        "else:\n",
        "  print(\"we are accepting null hypothesis\")\n",
        "\n",
        "print(\"-----------------------------------------------------------------------\")\n",
        "systolic_BP_mean = data['Systolic (D-60)'].mean()\n",
        "print(systolic_BP_mean)\n",
        "tset, pval = stats.ttest_1samp(systolic_BP_mean, 120)\n",
        "print('p-values',pval)\n",
        "if pval < 0.05:    # alpha value is 0.05 or 5%\n",
        "   print(\" we are rejecting null hypothesis\")\n",
        "else:\n",
        "  print(\"we are accepting null hypothesis\")\n"
      ],
      "metadata": {
        "id": "K-8piE25QTts",
        "colab": {
          "base_uri": "https://localhost:8080/"
        },
        "outputId": "4ccf3a84-ade7-4465-eddd-e39ed26e38ec"
      },
      "execution_count": null,
      "outputs": [
        {
          "output_type": "stream",
          "name": "stdout",
          "text": [
            "170.93333333333334\n",
            "p-values nan\n",
            "we are accepting null hypothesis\n",
            "-----------------------------------------------------------------------\n",
            "167.7\n",
            "p-values nan\n",
            "we are accepting null hypothesis\n"
          ]
        },
        {
          "output_type": "stream",
          "name": "stderr",
          "text": [
            "/usr/local/lib/python3.7/dist-packages/numpy/core/fromnumeric.py:3724: RuntimeWarning: Degrees of freedom <= 0 for slice\n",
            "  **kwargs)\n",
            "/usr/local/lib/python3.7/dist-packages/numpy/core/_methods.py:254: RuntimeWarning: invalid value encountered in double_scalars\n",
            "  ret = ret.dtype.type(ret / rcount)\n"
          ]
        }
      ]
    },
    {
      "cell_type": "code",
      "source": [
        "# Two sample t-test\n",
        "\n",
        "\n",
        "systolic_BP_mean_30 = data['Systolic (D-30)'].mean()\n",
        "systolic_BP_mean_60 = data['Systolic (D-60)'].mean()\n",
        "print(\"systolic_B.P_mean_30 mean value:\",systolic_BP_mean_30)\n",
        "print(\"systolic_B.P_mean_60 mean value:\",systolic_BP_mean_60)\n",
        "systolic_BP_30_std = data['Systolic (D-30)'].std()\n",
        "systolic_BP_60_std = data['Systolic (D-60)'].std()\n",
        "print(\"systolic_B.P_30_std value:\",systolic_BP_30_std)\n",
        "print(\"systolic_B.P_60_std value:\",systolic_BP_60_std)\n",
        "ttest,pval = stats.ttest_ind(data['Systolic (D-30)'], data['Systolic (D-60)'])\n",
        "print(\"p-value\",pval)\n",
        "if pval <0.05:\n",
        "  print(\"we reject null hypothesis\")\n",
        "else:\n",
        "  print(\"we accept null hypothesis\")"
      ],
      "metadata": {
        "colab": {
          "base_uri": "https://localhost:8080/"
        },
        "id": "Gjb61nOwRyeZ",
        "outputId": "49daedaa-d5be-4c14-c69e-87e10d564e26"
      },
      "execution_count": null,
      "outputs": [
        {
          "output_type": "stream",
          "name": "stdout",
          "text": [
            "systolic_B.P_mean_30 mean value: 170.93333333333334\n",
            "systolic_B.P_mean_60 mean value: 167.7\n",
            "systolic_B.P_30_std value: 16.90120039265388\n",
            "systolic_B.P_60_std value: 17.714498250751056\n",
            "p-value 0.47238766156477674\n",
            "we accept null hypothesis\n"
          ]
        }
      ]
    },
    {
      "cell_type": "code",
      "source": [
        "# Paired samplet t-test\n",
        "\n",
        "ttest,pval = stats.ttest_rel(data['Systolic (D-30)'], data['Systolic (D-60)'])\n",
        "print(pval)\n",
        "if pval<0.05:\n",
        "    print(\"reject null hypothesis\")\n",
        "else:\n",
        "    print(\"accept null hypothesis\")"
      ],
      "metadata": {
        "colab": {
          "base_uri": "https://localhost:8080/"
        },
        "id": "cqajiAWFyZD3",
        "outputId": "d04a8c49-16aa-4e63-b1ca-af00c9b399a7"
      },
      "execution_count": null,
      "outputs": [
        {
          "output_type": "stream",
          "name": "stdout",
          "text": [
            "2.101573206954982e-06\n",
            "reject null hypothesis\n"
          ]
        }
      ]
    },
    {
      "cell_type": "code",
      "source": [
        "# One sample t-test\n",
        "# our RBS hypothesised mean is 140. It's the normal RBS of human body.\n",
        "\n",
        "# For RBS\n",
        "\n",
        "RBS_mean = data['RBS (G2) (D-30)'].mean()\n",
        "print(RBS_mean)\n",
        "tset, pval = stats.ttest_1samp(RBS_mean, 140)\n",
        "print('p-values',pval)\n",
        "if pval < 0.05:    # alpha value is 0.05 or 5%\n",
        "   print(\" we are rejecting null hypothesis\")\n",
        "else:\n",
        "  print(\"we are accepting null hypothesis\")\n",
        "\n",
        "print(\"-----------------------------------------------------------------------\")\n",
        "RBS_mean = data['RBS (G2) (D-60)'].mean()\n",
        "print(RBS_mean)\n",
        "tset, pval = stats.ttest_1samp(RBS_mean, 140)\n",
        "print('p-values',pval)\n",
        "if pval < 0.05:    # alpha value is 0.05 or 5%\n",
        "   print(\" we are rejecting null hypothesis\")\n",
        "else:\n",
        "  print(\"we are accepting null hypothesis\")\n"
      ],
      "metadata": {
        "colab": {
          "base_uri": "https://localhost:8080/"
        },
        "id": "XLVUgjHGR4Me",
        "outputId": "f46390a2-d0b7-49d8-ec66-049769c7f9b4"
      },
      "execution_count": null,
      "outputs": [
        {
          "output_type": "stream",
          "name": "stdout",
          "text": [
            "201.7\n",
            "p-values nan\n",
            "we are accepting null hypothesis\n",
            "-----------------------------------------------------------------------\n",
            "196.16666666666666\n",
            "p-values nan\n",
            "we are accepting null hypothesis\n"
          ]
        },
        {
          "output_type": "stream",
          "name": "stderr",
          "text": [
            "/usr/local/lib/python3.7/dist-packages/numpy/core/fromnumeric.py:3724: RuntimeWarning: Degrees of freedom <= 0 for slice\n",
            "  **kwargs)\n",
            "/usr/local/lib/python3.7/dist-packages/numpy/core/_methods.py:254: RuntimeWarning: invalid value encountered in double_scalars\n",
            "  ret = ret.dtype.type(ret / rcount)\n"
          ]
        }
      ]
    },
    {
      "cell_type": "code",
      "source": [
        "# Two sample t-test\n",
        "# For RBS\n",
        "\n",
        "RBS_mean_30 = data['RBS (G2) (D-30)'].mean()\n",
        "RBS_mean_60 = data['RBS (G2) (D-60)'].mean()\n",
        "print(\"RBS_mean_30 mean value:\",RBS_mean_30)\n",
        "print(\"RBS_mean_60 mean value:\",RBS_mean_60)\n",
        "RBS_30_std = data['RBS (G2) (D-30)'].std()\n",
        "RBS_60_std = data['RBS (G2) (D-60)'].std()\n",
        "print(\"RBS_30_std value:\",RBS_30_std)\n",
        "print(\"RBS_60_std value:\",RBS_60_std)\n",
        "ttest,pval = stats.ttest_ind(data['RBS (G2) (D-30)'], data['RBS (G2) (D-60)'])\n",
        "print(\"p-value\",pval)\n",
        "if pval <0.05:\n",
        "  print(\"we reject null hypothesis\")\n",
        "else:\n",
        "  print(\"we accept null hypothesis\")"
      ],
      "metadata": {
        "colab": {
          "base_uri": "https://localhost:8080/"
        },
        "id": "Dyc8pUXcR8Lm",
        "outputId": "fae78a12-c6ca-43dd-aaae-7cf75eef61f9"
      },
      "execution_count": null,
      "outputs": [
        {
          "output_type": "stream",
          "name": "stdout",
          "text": [
            "RBS_mean_30 mean value: 201.7\n",
            "RBS_mean_60 mean value: 196.16666666666666\n",
            "RBS_30_std value: 37.95655411124672\n",
            "RBS_60_std value: 37.190176060383195\n",
            "p-value 0.5706536439281378\n",
            "we accept null hypothesis\n"
          ]
        }
      ]
    },
    {
      "cell_type": "code",
      "source": [
        "# Paired samplet t-test\n",
        "\n",
        "ttest,pval = stats.ttest_rel(data['RBS (G2) (D-30)'], data['RBS (G2) (D-60)'])\n",
        "print(pval)\n",
        "if pval<0.05:\n",
        "    print(\"reject null hypothesis\")\n",
        "else:\n",
        "    print(\"accept null hypothesis\")"
      ],
      "metadata": {
        "colab": {
          "base_uri": "https://localhost:8080/"
        },
        "id": "XAobQNm_yusF",
        "outputId": "66a0ca5f-3ed7-4a65-a633-d7a4ddd1ec1a"
      },
      "execution_count": null,
      "outputs": [
        {
          "output_type": "stream",
          "name": "stdout",
          "text": [
            "4.619307321586254e-07\n",
            "reject null hypothesis\n"
          ]
        }
      ]
    },
    {
      "cell_type": "code",
      "source": [
        "# One sample t-test\n",
        "# our HbA1C hypothesised mean is 5.6 because its the normal range of a human body.\n",
        "\n",
        "# For B.P\n",
        "\n",
        "HbA1C_mean = data['HbA1C (D-1)'].mean()\n",
        "print(HbA1C_mean)\n",
        "tset, pval = stats.ttest_1samp(HbA1C_mean, 5.6)\n",
        "print('p-values',pval)\n",
        "if pval < 0.05:    # alpha value is 0.05 or 5%\n",
        "   print(\" we are rejecting null hypothesis\")\n",
        "else:\n",
        "  print(\"we are accepting null hypothesis\")\n",
        "\n",
        "print(\"-----------------------------------------------------------------------\")\n",
        "HbA1C_mean = data['HbA1C (D-60)'].mean()\n",
        "print(HbA1C_mean)\n",
        "tset, pval = stats.ttest_1samp(HbA1C_mean, 5.6)\n",
        "print('p-values',pval)\n",
        "if pval < 0.05:    # alpha value is 0.05 or 5%\n",
        "   print(\" we are rejecting null hypothesis\")\n",
        "else:\n",
        "  print(\"we are accepting null hypothesis\")\n"
      ],
      "metadata": {
        "colab": {
          "base_uri": "https://localhost:8080/"
        },
        "id": "g90E_6d9R_wy",
        "outputId": "2aae10c0-65d6-4de5-bd49-b79dbc53d74e"
      },
      "execution_count": null,
      "outputs": [
        {
          "output_type": "stream",
          "name": "stdout",
          "text": [
            "7.036666666666666\n",
            "p-values nan\n",
            "we are accepting null hypothesis\n",
            "-----------------------------------------------------------------------\n",
            "6.8\n",
            "p-values nan\n",
            "we are accepting null hypothesis\n"
          ]
        },
        {
          "output_type": "stream",
          "name": "stderr",
          "text": [
            "/usr/local/lib/python3.7/dist-packages/numpy/core/fromnumeric.py:3724: RuntimeWarning: Degrees of freedom <= 0 for slice\n",
            "  **kwargs)\n",
            "/usr/local/lib/python3.7/dist-packages/numpy/core/_methods.py:254: RuntimeWarning: invalid value encountered in double_scalars\n",
            "  ret = ret.dtype.type(ret / rcount)\n"
          ]
        }
      ]
    },
    {
      "cell_type": "code",
      "source": [
        "# Two sample t-test\n",
        "\n",
        "\n",
        "HbA1C_mean_1 = data['HbA1C (D-1)'].mean()\n",
        "HbA1C_mean_60 = data['HbA1C (D-60)'].mean()\n",
        "print(\"HbA1C_mean_1 mean value:\",HbA1C_mean_1)\n",
        "print(\"HbA1C_mean_60 mean value:\",HbA1C_mean_60)\n",
        "HbA1C_1_std = data['HbA1C (D-1)'].std()\n",
        "HbA1C_60_std = data['HbA1C (D-60)'].std()\n",
        "print(\"HbA1C_1_std value:\",HbA1C_1_std)\n",
        "print(\"HbA1C_60_std value:\",HbA1C_60_std)\n",
        "ttest,pval = stats.ttest_ind(data['HbA1C (D-1)'], data['HbA1C (D-60)'])\n",
        "print(\"p-value\",pval)\n",
        "if pval <0.05:\n",
        "  print(\"we reject null hypothesis\")\n",
        "else:\n",
        "  print(\"we accept null hypothesis\")"
      ],
      "metadata": {
        "colab": {
          "base_uri": "https://localhost:8080/"
        },
        "id": "LFAvuijLSEBW",
        "outputId": "1961e28f-cf57-40fe-ac43-8f4e896350dd"
      },
      "execution_count": null,
      "outputs": [
        {
          "output_type": "stream",
          "name": "stdout",
          "text": [
            "HbA1C_mean_1 mean value: 7.036666666666666\n",
            "HbA1C_mean_60 mean value: 6.8\n",
            "HbA1C_1_std value: 0.3232201484558413\n",
            "HbA1C_60_std value: 0.366718909548839\n",
            "p-value 0.010307749767935317\n",
            "we reject null hypothesis\n"
          ]
        }
      ]
    },
    {
      "cell_type": "code",
      "source": [
        "# Paired samplet t-test\n",
        "\n",
        "ttest,pval = stats.ttest_rel(data['HbA1C (D-1)'], data['HbA1C (D-60)'])\n",
        "print(pval)\n",
        "if pval<0.05:\n",
        "    print(\"reject null hypothesis\")\n",
        "else:\n",
        "    print(\"accept null hypothesis\")"
      ],
      "metadata": {
        "colab": {
          "base_uri": "https://localhost:8080/"
        },
        "id": "m1M74wr2wGKR",
        "outputId": "4a0704fc-9093-4657-d72c-008d8394b957"
      },
      "execution_count": null,
      "outputs": [
        {
          "output_type": "stream",
          "name": "stdout",
          "text": [
            "8.161633118734418e-07\n",
            "reject null hypothesis\n"
          ]
        }
      ]
    },
    {
      "cell_type": "markdown",
      "source": [
        "# We use Z Test only if the sample size is greater than 30. but our dataset is comprises of 30 samples so, we are unable to use the Z Test now.\n",
        "\n",
        "# So, move forward to the next test which is ANOVA Test."
      ],
      "metadata": {
        "id": "PB5I0IRwzJJl"
      }
    },
    {
      "cell_type": "code",
      "source": [
        "F, p = stats.f_oneway(data['Systolic (D-30)'][:10], data['Systolic (D-30)'][10:20], data['Systolic (D-30)'][20:])\n",
        "\n",
        "print(\"f-value for significance is: \", F)\n",
        "print(\"p-value for significance is: \", p)\n",
        "if p<0.05:\n",
        "    print(\"reject null hypothesis\")\n",
        "else:\n",
        "    print(\"accept null hypothesis\")"
      ],
      "metadata": {
        "id": "HtNyvc9ry5Ng",
        "colab": {
          "base_uri": "https://localhost:8080/"
        },
        "outputId": "97bdc7b3-8fc5-4ba7-8d5e-e95e1880dea7"
      },
      "execution_count": null,
      "outputs": [
        {
          "output_type": "stream",
          "name": "stdout",
          "text": [
            "f-value for significance is:  6.93493038044074\n",
            "p-value for significance is:  0.0037108054136948125\n",
            "reject null hypothesis\n"
          ]
        }
      ]
    },
    {
      "cell_type": "code",
      "source": [
        "F, p = stats.f_oneway(data['Diastolic (D-30)'][:10], data['Diastolic (D-30)'][10:20], data['Diastolic (D-30)'][20:])\n",
        "\n",
        "print(\"f-value for significance is: \", F)\n",
        "print(\"p-value for significance is: \", p)\n",
        "if p<0.05:\n",
        "    print(\"reject null hypothesis\")\n",
        "else:\n",
        "    print(\"accept null hypothesis\")"
      ],
      "metadata": {
        "colab": {
          "base_uri": "https://localhost:8080/"
        },
        "id": "ARg2mITAAU6Q",
        "outputId": "8d8d88f1-a71f-4b0a-83c1-07f5a0b24000"
      },
      "execution_count": null,
      "outputs": [
        {
          "output_type": "stream",
          "name": "stdout",
          "text": [
            "f-value for significance is:  1.036566288619476\n",
            "p-value for significance is:  0.3683588667888561\n",
            "accept null hypothesis\n"
          ]
        }
      ]
    },
    {
      "cell_type": "code",
      "source": [
        "F, p = stats.f_oneway(data['Systolic (D-60)'][:10], data['Systolic (D-60)'][10:20], data['Systolic (D-60)'][20:])\n",
        "print(\"f-value for significance is: \", F)\n",
        "print(\"p-value for significance is: \", p)\n",
        "if p<0.05:\n",
        "    print(\"reject null hypothesis\")\n",
        "else:\n",
        "    print(\"accept null hypothesis\")"
      ],
      "metadata": {
        "colab": {
          "base_uri": "https://localhost:8080/"
        },
        "id": "BWXxU4zXxVOB",
        "outputId": "ced7da0c-e7b1-4224-98b0-5f4a914c165d"
      },
      "execution_count": null,
      "outputs": [
        {
          "output_type": "stream",
          "name": "stdout",
          "text": [
            "f-value for significance is:  12.188248823836899\n",
            "p-value for significance is:  0.00016907918057002588\n",
            "reject null hypothesis\n"
          ]
        }
      ]
    },
    {
      "cell_type": "code",
      "source": [
        "F, p = stats.f_oneway(data['Diastolic (D-60)'][:10], data['Diastolic (D-60)'][10:20], data['Diastolic (D-60)'][20:])\n",
        "print(\"f-value for significance is: \", F)\n",
        "print(\"p-value for significance is: \", p)\n",
        "if p<0.05:\n",
        "    print(\"reject null hypothesis\")\n",
        "else:\n",
        "    print(\"accept null hypothesis\")"
      ],
      "metadata": {
        "colab": {
          "base_uri": "https://localhost:8080/"
        },
        "id": "nVlqNvqWAXvt",
        "outputId": "c60a4d3d-b434-435c-9482-218b827198d8"
      },
      "execution_count": null,
      "outputs": [
        {
          "output_type": "stream",
          "name": "stdout",
          "text": [
            "f-value for significance is:  7.8898387884709305\n",
            "p-value for significance is:  0.002003108487049612\n",
            "reject null hypothesis\n"
          ]
        }
      ]
    },
    {
      "cell_type": "code",
      "source": [
        "F, p = stats.f_oneway(data['RBS (G2) (D-30)'][:10], data['RBS (G2) (D-30)'][10:20], data['RBS (G2) (D-30)'][20:])\n",
        "\n",
        "print(\"f-value for significance is: \", F)\n",
        "print(\"p-value for significance is: \", p)\n",
        "if p<0.05:\n",
        "    print(\"reject null hypothesis\")\n",
        "else:\n",
        "    print(\"accept null hypothesis\")"
      ],
      "metadata": {
        "colab": {
          "base_uri": "https://localhost:8080/"
        },
        "id": "rkmXGCE1xsDo",
        "outputId": "bd698b48-f388-48ab-b9f1-1832ae4347e9"
      },
      "execution_count": null,
      "outputs": [
        {
          "output_type": "stream",
          "name": "stdout",
          "text": [
            "f-value for significance is:  3.965761123686663\n",
            "p-value for significance is:  0.030901133299494066\n",
            "reject null hypothesis\n"
          ]
        }
      ]
    },
    {
      "cell_type": "code",
      "source": [
        "F, p = stats.f_oneway(data['RBS (G2) (D-60)'][:10], data['RBS (G2) (D-60)'][10:20], data['RBS (G2) (D-60)'][20:])\n",
        "\n",
        "print(\"f-value for significance is: \", F)\n",
        "print(\"p-value for significance is: \", p)\n",
        "if p<0.05:\n",
        "    print(\"reject null hypothesis\")\n",
        "else:\n",
        "    print(\"accept null hypothesis\")"
      ],
      "metadata": {
        "colab": {
          "base_uri": "https://localhost:8080/"
        },
        "id": "PjBlAVtZyDog",
        "outputId": "34d7460f-3e3e-4edd-a904-08bc9f6ba84b"
      },
      "execution_count": null,
      "outputs": [
        {
          "output_type": "stream",
          "name": "stdout",
          "text": [
            "f-value for significance is:  3.138568895744543\n",
            "p-value for significance is:  0.059489495856262994\n",
            "accept null hypothesis\n"
          ]
        }
      ]
    },
    {
      "cell_type": "code",
      "source": [
        "F, p = stats.f_oneway(data['HbA1C (D-60)'][:10], data['HbA1C (D-60)'][10:20], data['HbA1C (D-60)'][20:])\n",
        "\n",
        "print(\"f-value for significance is: \", F)\n",
        "print(\"p-value for significance is: \", p)\n",
        "if p<0.05:\n",
        "    print(\"reject null hypothesis\")\n",
        "else:\n",
        "    print(\"accept null hypothesis\")"
      ],
      "metadata": {
        "colab": {
          "base_uri": "https://localhost:8080/"
        },
        "id": "vCl-i-bQyJAH",
        "outputId": "d13a14bf-8c9b-44fe-eb57-70ca4618c8f0"
      },
      "execution_count": null,
      "outputs": [
        {
          "output_type": "stream",
          "name": "stdout",
          "text": [
            "f-value for significance is:  5.842395297575315\n",
            "p-value for significance is:  0.00779143472965615\n",
            "reject null hypothesis\n"
          ]
        }
      ]
    },
    {
      "cell_type": "code",
      "source": [
        "import statsmodels.api as sm\n",
        "from statsmodels.formula.api import ols\n",
        "\n",
        "model = ols('data[\"Systolic (D-30)\"] ~ data[\"Groups\"]', data=data).fit()\n",
        "anova_table = sm.stats.anova_lm(model, typ=2)\n",
        "anova_table"
      ],
      "metadata": {
        "colab": {
          "base_uri": "https://localhost:8080/",
          "height": 112
        },
        "id": "nhJMa3_d9P3L",
        "outputId": "d5819bb6-70b1-461e-eb11-d0510b84d07a"
      },
      "execution_count": null,
      "outputs": [
        {
          "output_type": "execute_result",
          "data": {
            "text/plain": [
              "                     sum_sq    df        F    PR(>F)\n",
              "data[\"Groups\"]  2811.266667   2.0  6.93493  0.003711\n",
              "Residual        5472.600000  27.0      NaN       NaN"
            ],
            "text/html": [
              "\n",
              "  <div id=\"df-3fcd0e0a-a482-4318-a410-8f4ffea1764b\">\n",
              "    <div class=\"colab-df-container\">\n",
              "      <div>\n",
              "<style scoped>\n",
              "    .dataframe tbody tr th:only-of-type {\n",
              "        vertical-align: middle;\n",
              "    }\n",
              "\n",
              "    .dataframe tbody tr th {\n",
              "        vertical-align: top;\n",
              "    }\n",
              "\n",
              "    .dataframe thead th {\n",
              "        text-align: right;\n",
              "    }\n",
              "</style>\n",
              "<table border=\"1\" class=\"dataframe\">\n",
              "  <thead>\n",
              "    <tr style=\"text-align: right;\">\n",
              "      <th></th>\n",
              "      <th>sum_sq</th>\n",
              "      <th>df</th>\n",
              "      <th>F</th>\n",
              "      <th>PR(&gt;F)</th>\n",
              "    </tr>\n",
              "  </thead>\n",
              "  <tbody>\n",
              "    <tr>\n",
              "      <th>data[\"Groups\"]</th>\n",
              "      <td>2811.266667</td>\n",
              "      <td>2.0</td>\n",
              "      <td>6.93493</td>\n",
              "      <td>0.003711</td>\n",
              "    </tr>\n",
              "    <tr>\n",
              "      <th>Residual</th>\n",
              "      <td>5472.600000</td>\n",
              "      <td>27.0</td>\n",
              "      <td>NaN</td>\n",
              "      <td>NaN</td>\n",
              "    </tr>\n",
              "  </tbody>\n",
              "</table>\n",
              "</div>\n",
              "      <button class=\"colab-df-convert\" onclick=\"convertToInteractive('df-3fcd0e0a-a482-4318-a410-8f4ffea1764b')\"\n",
              "              title=\"Convert this dataframe to an interactive table.\"\n",
              "              style=\"display:none;\">\n",
              "        \n",
              "  <svg xmlns=\"http://www.w3.org/2000/svg\" height=\"24px\"viewBox=\"0 0 24 24\"\n",
              "       width=\"24px\">\n",
              "    <path d=\"M0 0h24v24H0V0z\" fill=\"none\"/>\n",
              "    <path d=\"M18.56 5.44l.94 2.06.94-2.06 2.06-.94-2.06-.94-.94-2.06-.94 2.06-2.06.94zm-11 1L8.5 8.5l.94-2.06 2.06-.94-2.06-.94L8.5 2.5l-.94 2.06-2.06.94zm10 10l.94 2.06.94-2.06 2.06-.94-2.06-.94-.94-2.06-.94 2.06-2.06.94z\"/><path d=\"M17.41 7.96l-1.37-1.37c-.4-.4-.92-.59-1.43-.59-.52 0-1.04.2-1.43.59L10.3 9.45l-7.72 7.72c-.78.78-.78 2.05 0 2.83L4 21.41c.39.39.9.59 1.41.59.51 0 1.02-.2 1.41-.59l7.78-7.78 2.81-2.81c.8-.78.8-2.07 0-2.86zM5.41 20L4 18.59l7.72-7.72 1.47 1.35L5.41 20z\"/>\n",
              "  </svg>\n",
              "      </button>\n",
              "      \n",
              "  <style>\n",
              "    .colab-df-container {\n",
              "      display:flex;\n",
              "      flex-wrap:wrap;\n",
              "      gap: 12px;\n",
              "    }\n",
              "\n",
              "    .colab-df-convert {\n",
              "      background-color: #E8F0FE;\n",
              "      border: none;\n",
              "      border-radius: 50%;\n",
              "      cursor: pointer;\n",
              "      display: none;\n",
              "      fill: #1967D2;\n",
              "      height: 32px;\n",
              "      padding: 0 0 0 0;\n",
              "      width: 32px;\n",
              "    }\n",
              "\n",
              "    .colab-df-convert:hover {\n",
              "      background-color: #E2EBFA;\n",
              "      box-shadow: 0px 1px 2px rgba(60, 64, 67, 0.3), 0px 1px 3px 1px rgba(60, 64, 67, 0.15);\n",
              "      fill: #174EA6;\n",
              "    }\n",
              "\n",
              "    [theme=dark] .colab-df-convert {\n",
              "      background-color: #3B4455;\n",
              "      fill: #D2E3FC;\n",
              "    }\n",
              "\n",
              "    [theme=dark] .colab-df-convert:hover {\n",
              "      background-color: #434B5C;\n",
              "      box-shadow: 0px 1px 3px 1px rgba(0, 0, 0, 0.15);\n",
              "      filter: drop-shadow(0px 1px 2px rgba(0, 0, 0, 0.3));\n",
              "      fill: #FFFFFF;\n",
              "    }\n",
              "  </style>\n",
              "\n",
              "      <script>\n",
              "        const buttonEl =\n",
              "          document.querySelector('#df-3fcd0e0a-a482-4318-a410-8f4ffea1764b button.colab-df-convert');\n",
              "        buttonEl.style.display =\n",
              "          google.colab.kernel.accessAllowed ? 'block' : 'none';\n",
              "\n",
              "        async function convertToInteractive(key) {\n",
              "          const element = document.querySelector('#df-3fcd0e0a-a482-4318-a410-8f4ffea1764b');\n",
              "          const dataTable =\n",
              "            await google.colab.kernel.invokeFunction('convertToInteractive',\n",
              "                                                     [key], {});\n",
              "          if (!dataTable) return;\n",
              "\n",
              "          const docLinkHtml = 'Like what you see? Visit the ' +\n",
              "            '<a target=\"_blank\" href=https://colab.research.google.com/notebooks/data_table.ipynb>data table notebook</a>'\n",
              "            + ' to learn more about interactive tables.';\n",
              "          element.innerHTML = '';\n",
              "          dataTable['output_type'] = 'display_data';\n",
              "          await google.colab.output.renderOutput(dataTable, element);\n",
              "          const docLink = document.createElement('div');\n",
              "          docLink.innerHTML = docLinkHtml;\n",
              "          element.appendChild(docLink);\n",
              "        }\n",
              "      </script>\n",
              "    </div>\n",
              "  </div>\n",
              "  "
            ]
          },
          "metadata": {},
          "execution_count": 55
        }
      ]
    },
    {
      "cell_type": "code",
      "source": [
        "import statsmodels.api as sm\n",
        "from statsmodels.formula.api import ols\n",
        "\n",
        "model = ols('data[\"Systolic (D-60)\"] ~ data[\"Groups\"]', data=data).fit()\n",
        "anova_table = sm.stats.anova_lm(model, typ=2)\n",
        "anova_table"
      ],
      "metadata": {
        "colab": {
          "base_uri": "https://localhost:8080/",
          "height": 112
        },
        "id": "AKGzwRD5DUvp",
        "outputId": "e9786ba9-512b-4401-fdd9-454840e6cc2a"
      },
      "execution_count": null,
      "outputs": [
        {
          "output_type": "execute_result",
          "data": {
            "text/plain": [
              "                sum_sq    df          F    PR(>F)\n",
              "data[\"Groups\"]  4317.8   2.0  12.188249  0.000169\n",
              "Residual        4782.5  27.0        NaN       NaN"
            ],
            "text/html": [
              "\n",
              "  <div id=\"df-010404c6-a0c8-4851-b5f7-c60f6d53a9fa\">\n",
              "    <div class=\"colab-df-container\">\n",
              "      <div>\n",
              "<style scoped>\n",
              "    .dataframe tbody tr th:only-of-type {\n",
              "        vertical-align: middle;\n",
              "    }\n",
              "\n",
              "    .dataframe tbody tr th {\n",
              "        vertical-align: top;\n",
              "    }\n",
              "\n",
              "    .dataframe thead th {\n",
              "        text-align: right;\n",
              "    }\n",
              "</style>\n",
              "<table border=\"1\" class=\"dataframe\">\n",
              "  <thead>\n",
              "    <tr style=\"text-align: right;\">\n",
              "      <th></th>\n",
              "      <th>sum_sq</th>\n",
              "      <th>df</th>\n",
              "      <th>F</th>\n",
              "      <th>PR(&gt;F)</th>\n",
              "    </tr>\n",
              "  </thead>\n",
              "  <tbody>\n",
              "    <tr>\n",
              "      <th>data[\"Groups\"]</th>\n",
              "      <td>4317.8</td>\n",
              "      <td>2.0</td>\n",
              "      <td>12.188249</td>\n",
              "      <td>0.000169</td>\n",
              "    </tr>\n",
              "    <tr>\n",
              "      <th>Residual</th>\n",
              "      <td>4782.5</td>\n",
              "      <td>27.0</td>\n",
              "      <td>NaN</td>\n",
              "      <td>NaN</td>\n",
              "    </tr>\n",
              "  </tbody>\n",
              "</table>\n",
              "</div>\n",
              "      <button class=\"colab-df-convert\" onclick=\"convertToInteractive('df-010404c6-a0c8-4851-b5f7-c60f6d53a9fa')\"\n",
              "              title=\"Convert this dataframe to an interactive table.\"\n",
              "              style=\"display:none;\">\n",
              "        \n",
              "  <svg xmlns=\"http://www.w3.org/2000/svg\" height=\"24px\"viewBox=\"0 0 24 24\"\n",
              "       width=\"24px\">\n",
              "    <path d=\"M0 0h24v24H0V0z\" fill=\"none\"/>\n",
              "    <path d=\"M18.56 5.44l.94 2.06.94-2.06 2.06-.94-2.06-.94-.94-2.06-.94 2.06-2.06.94zm-11 1L8.5 8.5l.94-2.06 2.06-.94-2.06-.94L8.5 2.5l-.94 2.06-2.06.94zm10 10l.94 2.06.94-2.06 2.06-.94-2.06-.94-.94-2.06-.94 2.06-2.06.94z\"/><path d=\"M17.41 7.96l-1.37-1.37c-.4-.4-.92-.59-1.43-.59-.52 0-1.04.2-1.43.59L10.3 9.45l-7.72 7.72c-.78.78-.78 2.05 0 2.83L4 21.41c.39.39.9.59 1.41.59.51 0 1.02-.2 1.41-.59l7.78-7.78 2.81-2.81c.8-.78.8-2.07 0-2.86zM5.41 20L4 18.59l7.72-7.72 1.47 1.35L5.41 20z\"/>\n",
              "  </svg>\n",
              "      </button>\n",
              "      \n",
              "  <style>\n",
              "    .colab-df-container {\n",
              "      display:flex;\n",
              "      flex-wrap:wrap;\n",
              "      gap: 12px;\n",
              "    }\n",
              "\n",
              "    .colab-df-convert {\n",
              "      background-color: #E8F0FE;\n",
              "      border: none;\n",
              "      border-radius: 50%;\n",
              "      cursor: pointer;\n",
              "      display: none;\n",
              "      fill: #1967D2;\n",
              "      height: 32px;\n",
              "      padding: 0 0 0 0;\n",
              "      width: 32px;\n",
              "    }\n",
              "\n",
              "    .colab-df-convert:hover {\n",
              "      background-color: #E2EBFA;\n",
              "      box-shadow: 0px 1px 2px rgba(60, 64, 67, 0.3), 0px 1px 3px 1px rgba(60, 64, 67, 0.15);\n",
              "      fill: #174EA6;\n",
              "    }\n",
              "\n",
              "    [theme=dark] .colab-df-convert {\n",
              "      background-color: #3B4455;\n",
              "      fill: #D2E3FC;\n",
              "    }\n",
              "\n",
              "    [theme=dark] .colab-df-convert:hover {\n",
              "      background-color: #434B5C;\n",
              "      box-shadow: 0px 1px 3px 1px rgba(0, 0, 0, 0.15);\n",
              "      filter: drop-shadow(0px 1px 2px rgba(0, 0, 0, 0.3));\n",
              "      fill: #FFFFFF;\n",
              "    }\n",
              "  </style>\n",
              "\n",
              "      <script>\n",
              "        const buttonEl =\n",
              "          document.querySelector('#df-010404c6-a0c8-4851-b5f7-c60f6d53a9fa button.colab-df-convert');\n",
              "        buttonEl.style.display =\n",
              "          google.colab.kernel.accessAllowed ? 'block' : 'none';\n",
              "\n",
              "        async function convertToInteractive(key) {\n",
              "          const element = document.querySelector('#df-010404c6-a0c8-4851-b5f7-c60f6d53a9fa');\n",
              "          const dataTable =\n",
              "            await google.colab.kernel.invokeFunction('convertToInteractive',\n",
              "                                                     [key], {});\n",
              "          if (!dataTable) return;\n",
              "\n",
              "          const docLinkHtml = 'Like what you see? Visit the ' +\n",
              "            '<a target=\"_blank\" href=https://colab.research.google.com/notebooks/data_table.ipynb>data table notebook</a>'\n",
              "            + ' to learn more about interactive tables.';\n",
              "          element.innerHTML = '';\n",
              "          dataTable['output_type'] = 'display_data';\n",
              "          await google.colab.output.renderOutput(dataTable, element);\n",
              "          const docLink = document.createElement('div');\n",
              "          docLink.innerHTML = docLinkHtml;\n",
              "          element.appendChild(docLink);\n",
              "        }\n",
              "      </script>\n",
              "    </div>\n",
              "  </div>\n",
              "  "
            ]
          },
          "metadata": {},
          "execution_count": 56
        }
      ]
    },
    {
      "cell_type": "code",
      "source": [
        "import statsmodels.api as sm\n",
        "from statsmodels.formula.api import ols\n",
        "\n",
        "model = ols('data[\"Diastolic (D-30)\"] ~ data[\"Groups\"]', data=data).fit()\n",
        "anova_table = sm.stats.anova_lm(model, typ=2)\n",
        "anova_table"
      ],
      "metadata": {
        "colab": {
          "base_uri": "https://localhost:8080/",
          "height": 112
        },
        "id": "DezrRdOaEu_-",
        "outputId": "6df26d40-04b9-4f91-9fa4-b17d218f9592"
      },
      "execution_count": null,
      "outputs": [
        {
          "output_type": "execute_result",
          "data": {
            "text/plain": [
              "                    sum_sq    df         F    PR(>F)\n",
              "data[\"Groups\"]   39.266667   2.0  1.036566  0.368359\n",
              "Residual        511.400000  27.0       NaN       NaN"
            ],
            "text/html": [
              "\n",
              "  <div id=\"df-9f8fbe3e-f51e-474d-ad09-87cfeba131f5\">\n",
              "    <div class=\"colab-df-container\">\n",
              "      <div>\n",
              "<style scoped>\n",
              "    .dataframe tbody tr th:only-of-type {\n",
              "        vertical-align: middle;\n",
              "    }\n",
              "\n",
              "    .dataframe tbody tr th {\n",
              "        vertical-align: top;\n",
              "    }\n",
              "\n",
              "    .dataframe thead th {\n",
              "        text-align: right;\n",
              "    }\n",
              "</style>\n",
              "<table border=\"1\" class=\"dataframe\">\n",
              "  <thead>\n",
              "    <tr style=\"text-align: right;\">\n",
              "      <th></th>\n",
              "      <th>sum_sq</th>\n",
              "      <th>df</th>\n",
              "      <th>F</th>\n",
              "      <th>PR(&gt;F)</th>\n",
              "    </tr>\n",
              "  </thead>\n",
              "  <tbody>\n",
              "    <tr>\n",
              "      <th>data[\"Groups\"]</th>\n",
              "      <td>39.266667</td>\n",
              "      <td>2.0</td>\n",
              "      <td>1.036566</td>\n",
              "      <td>0.368359</td>\n",
              "    </tr>\n",
              "    <tr>\n",
              "      <th>Residual</th>\n",
              "      <td>511.400000</td>\n",
              "      <td>27.0</td>\n",
              "      <td>NaN</td>\n",
              "      <td>NaN</td>\n",
              "    </tr>\n",
              "  </tbody>\n",
              "</table>\n",
              "</div>\n",
              "      <button class=\"colab-df-convert\" onclick=\"convertToInteractive('df-9f8fbe3e-f51e-474d-ad09-87cfeba131f5')\"\n",
              "              title=\"Convert this dataframe to an interactive table.\"\n",
              "              style=\"display:none;\">\n",
              "        \n",
              "  <svg xmlns=\"http://www.w3.org/2000/svg\" height=\"24px\"viewBox=\"0 0 24 24\"\n",
              "       width=\"24px\">\n",
              "    <path d=\"M0 0h24v24H0V0z\" fill=\"none\"/>\n",
              "    <path d=\"M18.56 5.44l.94 2.06.94-2.06 2.06-.94-2.06-.94-.94-2.06-.94 2.06-2.06.94zm-11 1L8.5 8.5l.94-2.06 2.06-.94-2.06-.94L8.5 2.5l-.94 2.06-2.06.94zm10 10l.94 2.06.94-2.06 2.06-.94-2.06-.94-.94-2.06-.94 2.06-2.06.94z\"/><path d=\"M17.41 7.96l-1.37-1.37c-.4-.4-.92-.59-1.43-.59-.52 0-1.04.2-1.43.59L10.3 9.45l-7.72 7.72c-.78.78-.78 2.05 0 2.83L4 21.41c.39.39.9.59 1.41.59.51 0 1.02-.2 1.41-.59l7.78-7.78 2.81-2.81c.8-.78.8-2.07 0-2.86zM5.41 20L4 18.59l7.72-7.72 1.47 1.35L5.41 20z\"/>\n",
              "  </svg>\n",
              "      </button>\n",
              "      \n",
              "  <style>\n",
              "    .colab-df-container {\n",
              "      display:flex;\n",
              "      flex-wrap:wrap;\n",
              "      gap: 12px;\n",
              "    }\n",
              "\n",
              "    .colab-df-convert {\n",
              "      background-color: #E8F0FE;\n",
              "      border: none;\n",
              "      border-radius: 50%;\n",
              "      cursor: pointer;\n",
              "      display: none;\n",
              "      fill: #1967D2;\n",
              "      height: 32px;\n",
              "      padding: 0 0 0 0;\n",
              "      width: 32px;\n",
              "    }\n",
              "\n",
              "    .colab-df-convert:hover {\n",
              "      background-color: #E2EBFA;\n",
              "      box-shadow: 0px 1px 2px rgba(60, 64, 67, 0.3), 0px 1px 3px 1px rgba(60, 64, 67, 0.15);\n",
              "      fill: #174EA6;\n",
              "    }\n",
              "\n",
              "    [theme=dark] .colab-df-convert {\n",
              "      background-color: #3B4455;\n",
              "      fill: #D2E3FC;\n",
              "    }\n",
              "\n",
              "    [theme=dark] .colab-df-convert:hover {\n",
              "      background-color: #434B5C;\n",
              "      box-shadow: 0px 1px 3px 1px rgba(0, 0, 0, 0.15);\n",
              "      filter: drop-shadow(0px 1px 2px rgba(0, 0, 0, 0.3));\n",
              "      fill: #FFFFFF;\n",
              "    }\n",
              "  </style>\n",
              "\n",
              "      <script>\n",
              "        const buttonEl =\n",
              "          document.querySelector('#df-9f8fbe3e-f51e-474d-ad09-87cfeba131f5 button.colab-df-convert');\n",
              "        buttonEl.style.display =\n",
              "          google.colab.kernel.accessAllowed ? 'block' : 'none';\n",
              "\n",
              "        async function convertToInteractive(key) {\n",
              "          const element = document.querySelector('#df-9f8fbe3e-f51e-474d-ad09-87cfeba131f5');\n",
              "          const dataTable =\n",
              "            await google.colab.kernel.invokeFunction('convertToInteractive',\n",
              "                                                     [key], {});\n",
              "          if (!dataTable) return;\n",
              "\n",
              "          const docLinkHtml = 'Like what you see? Visit the ' +\n",
              "            '<a target=\"_blank\" href=https://colab.research.google.com/notebooks/data_table.ipynb>data table notebook</a>'\n",
              "            + ' to learn more about interactive tables.';\n",
              "          element.innerHTML = '';\n",
              "          dataTable['output_type'] = 'display_data';\n",
              "          await google.colab.output.renderOutput(dataTable, element);\n",
              "          const docLink = document.createElement('div');\n",
              "          docLink.innerHTML = docLinkHtml;\n",
              "          element.appendChild(docLink);\n",
              "        }\n",
              "      </script>\n",
              "    </div>\n",
              "  </div>\n",
              "  "
            ]
          },
          "metadata": {},
          "execution_count": 57
        }
      ]
    },
    {
      "cell_type": "code",
      "source": [
        "import statsmodels.api as sm\n",
        "from statsmodels.formula.api import ols\n",
        "\n",
        "model = ols('data[\"Diastolic (D-60)\"] ~ data[\"Groups\"]', data=data).fit()\n",
        "anova_table = sm.stats.anova_lm(model, typ=2)\n",
        "anova_table"
      ],
      "metadata": {
        "colab": {
          "base_uri": "https://localhost:8080/",
          "height": 112
        },
        "id": "mu1h2IylEzrg",
        "outputId": "25e117b5-fdc7-4631-bb18-ea006fa20992"
      },
      "execution_count": null,
      "outputs": [
        {
          "output_type": "execute_result",
          "data": {
            "text/plain": [
              "                    sum_sq    df         F    PR(>F)\n",
              "data[\"Groups\"]  239.266667   2.0  7.889839  0.002003\n",
              "Residual        409.400000  27.0       NaN       NaN"
            ],
            "text/html": [
              "\n",
              "  <div id=\"df-13d956c1-eb76-42bd-975b-0bcc5ad2444b\">\n",
              "    <div class=\"colab-df-container\">\n",
              "      <div>\n",
              "<style scoped>\n",
              "    .dataframe tbody tr th:only-of-type {\n",
              "        vertical-align: middle;\n",
              "    }\n",
              "\n",
              "    .dataframe tbody tr th {\n",
              "        vertical-align: top;\n",
              "    }\n",
              "\n",
              "    .dataframe thead th {\n",
              "        text-align: right;\n",
              "    }\n",
              "</style>\n",
              "<table border=\"1\" class=\"dataframe\">\n",
              "  <thead>\n",
              "    <tr style=\"text-align: right;\">\n",
              "      <th></th>\n",
              "      <th>sum_sq</th>\n",
              "      <th>df</th>\n",
              "      <th>F</th>\n",
              "      <th>PR(&gt;F)</th>\n",
              "    </tr>\n",
              "  </thead>\n",
              "  <tbody>\n",
              "    <tr>\n",
              "      <th>data[\"Groups\"]</th>\n",
              "      <td>239.266667</td>\n",
              "      <td>2.0</td>\n",
              "      <td>7.889839</td>\n",
              "      <td>0.002003</td>\n",
              "    </tr>\n",
              "    <tr>\n",
              "      <th>Residual</th>\n",
              "      <td>409.400000</td>\n",
              "      <td>27.0</td>\n",
              "      <td>NaN</td>\n",
              "      <td>NaN</td>\n",
              "    </tr>\n",
              "  </tbody>\n",
              "</table>\n",
              "</div>\n",
              "      <button class=\"colab-df-convert\" onclick=\"convertToInteractive('df-13d956c1-eb76-42bd-975b-0bcc5ad2444b')\"\n",
              "              title=\"Convert this dataframe to an interactive table.\"\n",
              "              style=\"display:none;\">\n",
              "        \n",
              "  <svg xmlns=\"http://www.w3.org/2000/svg\" height=\"24px\"viewBox=\"0 0 24 24\"\n",
              "       width=\"24px\">\n",
              "    <path d=\"M0 0h24v24H0V0z\" fill=\"none\"/>\n",
              "    <path d=\"M18.56 5.44l.94 2.06.94-2.06 2.06-.94-2.06-.94-.94-2.06-.94 2.06-2.06.94zm-11 1L8.5 8.5l.94-2.06 2.06-.94-2.06-.94L8.5 2.5l-.94 2.06-2.06.94zm10 10l.94 2.06.94-2.06 2.06-.94-2.06-.94-.94-2.06-.94 2.06-2.06.94z\"/><path d=\"M17.41 7.96l-1.37-1.37c-.4-.4-.92-.59-1.43-.59-.52 0-1.04.2-1.43.59L10.3 9.45l-7.72 7.72c-.78.78-.78 2.05 0 2.83L4 21.41c.39.39.9.59 1.41.59.51 0 1.02-.2 1.41-.59l7.78-7.78 2.81-2.81c.8-.78.8-2.07 0-2.86zM5.41 20L4 18.59l7.72-7.72 1.47 1.35L5.41 20z\"/>\n",
              "  </svg>\n",
              "      </button>\n",
              "      \n",
              "  <style>\n",
              "    .colab-df-container {\n",
              "      display:flex;\n",
              "      flex-wrap:wrap;\n",
              "      gap: 12px;\n",
              "    }\n",
              "\n",
              "    .colab-df-convert {\n",
              "      background-color: #E8F0FE;\n",
              "      border: none;\n",
              "      border-radius: 50%;\n",
              "      cursor: pointer;\n",
              "      display: none;\n",
              "      fill: #1967D2;\n",
              "      height: 32px;\n",
              "      padding: 0 0 0 0;\n",
              "      width: 32px;\n",
              "    }\n",
              "\n",
              "    .colab-df-convert:hover {\n",
              "      background-color: #E2EBFA;\n",
              "      box-shadow: 0px 1px 2px rgba(60, 64, 67, 0.3), 0px 1px 3px 1px rgba(60, 64, 67, 0.15);\n",
              "      fill: #174EA6;\n",
              "    }\n",
              "\n",
              "    [theme=dark] .colab-df-convert {\n",
              "      background-color: #3B4455;\n",
              "      fill: #D2E3FC;\n",
              "    }\n",
              "\n",
              "    [theme=dark] .colab-df-convert:hover {\n",
              "      background-color: #434B5C;\n",
              "      box-shadow: 0px 1px 3px 1px rgba(0, 0, 0, 0.15);\n",
              "      filter: drop-shadow(0px 1px 2px rgba(0, 0, 0, 0.3));\n",
              "      fill: #FFFFFF;\n",
              "    }\n",
              "  </style>\n",
              "\n",
              "      <script>\n",
              "        const buttonEl =\n",
              "          document.querySelector('#df-13d956c1-eb76-42bd-975b-0bcc5ad2444b button.colab-df-convert');\n",
              "        buttonEl.style.display =\n",
              "          google.colab.kernel.accessAllowed ? 'block' : 'none';\n",
              "\n",
              "        async function convertToInteractive(key) {\n",
              "          const element = document.querySelector('#df-13d956c1-eb76-42bd-975b-0bcc5ad2444b');\n",
              "          const dataTable =\n",
              "            await google.colab.kernel.invokeFunction('convertToInteractive',\n",
              "                                                     [key], {});\n",
              "          if (!dataTable) return;\n",
              "\n",
              "          const docLinkHtml = 'Like what you see? Visit the ' +\n",
              "            '<a target=\"_blank\" href=https://colab.research.google.com/notebooks/data_table.ipynb>data table notebook</a>'\n",
              "            + ' to learn more about interactive tables.';\n",
              "          element.innerHTML = '';\n",
              "          dataTable['output_type'] = 'display_data';\n",
              "          await google.colab.output.renderOutput(dataTable, element);\n",
              "          const docLink = document.createElement('div');\n",
              "          docLink.innerHTML = docLinkHtml;\n",
              "          element.appendChild(docLink);\n",
              "        }\n",
              "      </script>\n",
              "    </div>\n",
              "  </div>\n",
              "  "
            ]
          },
          "metadata": {},
          "execution_count": 58
        }
      ]
    },
    {
      "cell_type": "code",
      "source": [
        "import statsmodels.api as sm\n",
        "from statsmodels.formula.api import ols\n",
        "\n",
        "model = ols('data[\"RBS (G2) (D-30)\"] ~ data[\"Groups\"]', data=data).fit()\n",
        "anova_table = sm.stats.anova_lm(model, typ=2)\n",
        "anova_table"
      ],
      "metadata": {
        "colab": {
          "base_uri": "https://localhost:8080/",
          "height": 112
        },
        "id": "rhCJ8kAaE172",
        "outputId": "062558b8-38f8-446e-94df-eb33cee26100"
      },
      "execution_count": null,
      "outputs": [
        {
          "output_type": "execute_result",
          "data": {
            "text/plain": [
              "                 sum_sq    df         F    PR(>F)\n",
              "data[\"Groups\"]   9486.6   2.0  3.965761  0.030901\n",
              "Residual        32293.7  27.0       NaN       NaN"
            ],
            "text/html": [
              "\n",
              "  <div id=\"df-3fcea953-31e0-4e0c-976a-3c2c25bf60b9\">\n",
              "    <div class=\"colab-df-container\">\n",
              "      <div>\n",
              "<style scoped>\n",
              "    .dataframe tbody tr th:only-of-type {\n",
              "        vertical-align: middle;\n",
              "    }\n",
              "\n",
              "    .dataframe tbody tr th {\n",
              "        vertical-align: top;\n",
              "    }\n",
              "\n",
              "    .dataframe thead th {\n",
              "        text-align: right;\n",
              "    }\n",
              "</style>\n",
              "<table border=\"1\" class=\"dataframe\">\n",
              "  <thead>\n",
              "    <tr style=\"text-align: right;\">\n",
              "      <th></th>\n",
              "      <th>sum_sq</th>\n",
              "      <th>df</th>\n",
              "      <th>F</th>\n",
              "      <th>PR(&gt;F)</th>\n",
              "    </tr>\n",
              "  </thead>\n",
              "  <tbody>\n",
              "    <tr>\n",
              "      <th>data[\"Groups\"]</th>\n",
              "      <td>9486.6</td>\n",
              "      <td>2.0</td>\n",
              "      <td>3.965761</td>\n",
              "      <td>0.030901</td>\n",
              "    </tr>\n",
              "    <tr>\n",
              "      <th>Residual</th>\n",
              "      <td>32293.7</td>\n",
              "      <td>27.0</td>\n",
              "      <td>NaN</td>\n",
              "      <td>NaN</td>\n",
              "    </tr>\n",
              "  </tbody>\n",
              "</table>\n",
              "</div>\n",
              "      <button class=\"colab-df-convert\" onclick=\"convertToInteractive('df-3fcea953-31e0-4e0c-976a-3c2c25bf60b9')\"\n",
              "              title=\"Convert this dataframe to an interactive table.\"\n",
              "              style=\"display:none;\">\n",
              "        \n",
              "  <svg xmlns=\"http://www.w3.org/2000/svg\" height=\"24px\"viewBox=\"0 0 24 24\"\n",
              "       width=\"24px\">\n",
              "    <path d=\"M0 0h24v24H0V0z\" fill=\"none\"/>\n",
              "    <path d=\"M18.56 5.44l.94 2.06.94-2.06 2.06-.94-2.06-.94-.94-2.06-.94 2.06-2.06.94zm-11 1L8.5 8.5l.94-2.06 2.06-.94-2.06-.94L8.5 2.5l-.94 2.06-2.06.94zm10 10l.94 2.06.94-2.06 2.06-.94-2.06-.94-.94-2.06-.94 2.06-2.06.94z\"/><path d=\"M17.41 7.96l-1.37-1.37c-.4-.4-.92-.59-1.43-.59-.52 0-1.04.2-1.43.59L10.3 9.45l-7.72 7.72c-.78.78-.78 2.05 0 2.83L4 21.41c.39.39.9.59 1.41.59.51 0 1.02-.2 1.41-.59l7.78-7.78 2.81-2.81c.8-.78.8-2.07 0-2.86zM5.41 20L4 18.59l7.72-7.72 1.47 1.35L5.41 20z\"/>\n",
              "  </svg>\n",
              "      </button>\n",
              "      \n",
              "  <style>\n",
              "    .colab-df-container {\n",
              "      display:flex;\n",
              "      flex-wrap:wrap;\n",
              "      gap: 12px;\n",
              "    }\n",
              "\n",
              "    .colab-df-convert {\n",
              "      background-color: #E8F0FE;\n",
              "      border: none;\n",
              "      border-radius: 50%;\n",
              "      cursor: pointer;\n",
              "      display: none;\n",
              "      fill: #1967D2;\n",
              "      height: 32px;\n",
              "      padding: 0 0 0 0;\n",
              "      width: 32px;\n",
              "    }\n",
              "\n",
              "    .colab-df-convert:hover {\n",
              "      background-color: #E2EBFA;\n",
              "      box-shadow: 0px 1px 2px rgba(60, 64, 67, 0.3), 0px 1px 3px 1px rgba(60, 64, 67, 0.15);\n",
              "      fill: #174EA6;\n",
              "    }\n",
              "\n",
              "    [theme=dark] .colab-df-convert {\n",
              "      background-color: #3B4455;\n",
              "      fill: #D2E3FC;\n",
              "    }\n",
              "\n",
              "    [theme=dark] .colab-df-convert:hover {\n",
              "      background-color: #434B5C;\n",
              "      box-shadow: 0px 1px 3px 1px rgba(0, 0, 0, 0.15);\n",
              "      filter: drop-shadow(0px 1px 2px rgba(0, 0, 0, 0.3));\n",
              "      fill: #FFFFFF;\n",
              "    }\n",
              "  </style>\n",
              "\n",
              "      <script>\n",
              "        const buttonEl =\n",
              "          document.querySelector('#df-3fcea953-31e0-4e0c-976a-3c2c25bf60b9 button.colab-df-convert');\n",
              "        buttonEl.style.display =\n",
              "          google.colab.kernel.accessAllowed ? 'block' : 'none';\n",
              "\n",
              "        async function convertToInteractive(key) {\n",
              "          const element = document.querySelector('#df-3fcea953-31e0-4e0c-976a-3c2c25bf60b9');\n",
              "          const dataTable =\n",
              "            await google.colab.kernel.invokeFunction('convertToInteractive',\n",
              "                                                     [key], {});\n",
              "          if (!dataTable) return;\n",
              "\n",
              "          const docLinkHtml = 'Like what you see? Visit the ' +\n",
              "            '<a target=\"_blank\" href=https://colab.research.google.com/notebooks/data_table.ipynb>data table notebook</a>'\n",
              "            + ' to learn more about interactive tables.';\n",
              "          element.innerHTML = '';\n",
              "          dataTable['output_type'] = 'display_data';\n",
              "          await google.colab.output.renderOutput(dataTable, element);\n",
              "          const docLink = document.createElement('div');\n",
              "          docLink.innerHTML = docLinkHtml;\n",
              "          element.appendChild(docLink);\n",
              "        }\n",
              "      </script>\n",
              "    </div>\n",
              "  </div>\n",
              "  "
            ]
          },
          "metadata": {},
          "execution_count": 60
        }
      ]
    },
    {
      "cell_type": "code",
      "source": [
        "import statsmodels.api as sm\n",
        "from statsmodels.formula.api import ols\n",
        "\n",
        "model = ols('data[\"RBS (G2) (D-60)\"] ~ data[\"Groups\"]', data=data).fit()\n",
        "anova_table = sm.stats.anova_lm(model, typ=2)\n",
        "anova_table"
      ],
      "metadata": {
        "colab": {
          "base_uri": "https://localhost:8080/",
          "height": 112
        },
        "id": "G1dFvqA0E2pX",
        "outputId": "8a3c8ade-942b-46ed-d2bc-abdfc1c218dc"
      },
      "execution_count": null,
      "outputs": [
        {
          "output_type": "execute_result",
          "data": {
            "text/plain": [
              "                      sum_sq    df         F    PR(>F)\n",
              "data[\"Groups\"]   7566.066667   2.0  3.138569  0.059489\n",
              "Residual        32544.100000  27.0       NaN       NaN"
            ],
            "text/html": [
              "\n",
              "  <div id=\"df-642348cd-3854-4efd-a3d0-aea194d51ae4\">\n",
              "    <div class=\"colab-df-container\">\n",
              "      <div>\n",
              "<style scoped>\n",
              "    .dataframe tbody tr th:only-of-type {\n",
              "        vertical-align: middle;\n",
              "    }\n",
              "\n",
              "    .dataframe tbody tr th {\n",
              "        vertical-align: top;\n",
              "    }\n",
              "\n",
              "    .dataframe thead th {\n",
              "        text-align: right;\n",
              "    }\n",
              "</style>\n",
              "<table border=\"1\" class=\"dataframe\">\n",
              "  <thead>\n",
              "    <tr style=\"text-align: right;\">\n",
              "      <th></th>\n",
              "      <th>sum_sq</th>\n",
              "      <th>df</th>\n",
              "      <th>F</th>\n",
              "      <th>PR(&gt;F)</th>\n",
              "    </tr>\n",
              "  </thead>\n",
              "  <tbody>\n",
              "    <tr>\n",
              "      <th>data[\"Groups\"]</th>\n",
              "      <td>7566.066667</td>\n",
              "      <td>2.0</td>\n",
              "      <td>3.138569</td>\n",
              "      <td>0.059489</td>\n",
              "    </tr>\n",
              "    <tr>\n",
              "      <th>Residual</th>\n",
              "      <td>32544.100000</td>\n",
              "      <td>27.0</td>\n",
              "      <td>NaN</td>\n",
              "      <td>NaN</td>\n",
              "    </tr>\n",
              "  </tbody>\n",
              "</table>\n",
              "</div>\n",
              "      <button class=\"colab-df-convert\" onclick=\"convertToInteractive('df-642348cd-3854-4efd-a3d0-aea194d51ae4')\"\n",
              "              title=\"Convert this dataframe to an interactive table.\"\n",
              "              style=\"display:none;\">\n",
              "        \n",
              "  <svg xmlns=\"http://www.w3.org/2000/svg\" height=\"24px\"viewBox=\"0 0 24 24\"\n",
              "       width=\"24px\">\n",
              "    <path d=\"M0 0h24v24H0V0z\" fill=\"none\"/>\n",
              "    <path d=\"M18.56 5.44l.94 2.06.94-2.06 2.06-.94-2.06-.94-.94-2.06-.94 2.06-2.06.94zm-11 1L8.5 8.5l.94-2.06 2.06-.94-2.06-.94L8.5 2.5l-.94 2.06-2.06.94zm10 10l.94 2.06.94-2.06 2.06-.94-2.06-.94-.94-2.06-.94 2.06-2.06.94z\"/><path d=\"M17.41 7.96l-1.37-1.37c-.4-.4-.92-.59-1.43-.59-.52 0-1.04.2-1.43.59L10.3 9.45l-7.72 7.72c-.78.78-.78 2.05 0 2.83L4 21.41c.39.39.9.59 1.41.59.51 0 1.02-.2 1.41-.59l7.78-7.78 2.81-2.81c.8-.78.8-2.07 0-2.86zM5.41 20L4 18.59l7.72-7.72 1.47 1.35L5.41 20z\"/>\n",
              "  </svg>\n",
              "      </button>\n",
              "      \n",
              "  <style>\n",
              "    .colab-df-container {\n",
              "      display:flex;\n",
              "      flex-wrap:wrap;\n",
              "      gap: 12px;\n",
              "    }\n",
              "\n",
              "    .colab-df-convert {\n",
              "      background-color: #E8F0FE;\n",
              "      border: none;\n",
              "      border-radius: 50%;\n",
              "      cursor: pointer;\n",
              "      display: none;\n",
              "      fill: #1967D2;\n",
              "      height: 32px;\n",
              "      padding: 0 0 0 0;\n",
              "      width: 32px;\n",
              "    }\n",
              "\n",
              "    .colab-df-convert:hover {\n",
              "      background-color: #E2EBFA;\n",
              "      box-shadow: 0px 1px 2px rgba(60, 64, 67, 0.3), 0px 1px 3px 1px rgba(60, 64, 67, 0.15);\n",
              "      fill: #174EA6;\n",
              "    }\n",
              "\n",
              "    [theme=dark] .colab-df-convert {\n",
              "      background-color: #3B4455;\n",
              "      fill: #D2E3FC;\n",
              "    }\n",
              "\n",
              "    [theme=dark] .colab-df-convert:hover {\n",
              "      background-color: #434B5C;\n",
              "      box-shadow: 0px 1px 3px 1px rgba(0, 0, 0, 0.15);\n",
              "      filter: drop-shadow(0px 1px 2px rgba(0, 0, 0, 0.3));\n",
              "      fill: #FFFFFF;\n",
              "    }\n",
              "  </style>\n",
              "\n",
              "      <script>\n",
              "        const buttonEl =\n",
              "          document.querySelector('#df-642348cd-3854-4efd-a3d0-aea194d51ae4 button.colab-df-convert');\n",
              "        buttonEl.style.display =\n",
              "          google.colab.kernel.accessAllowed ? 'block' : 'none';\n",
              "\n",
              "        async function convertToInteractive(key) {\n",
              "          const element = document.querySelector('#df-642348cd-3854-4efd-a3d0-aea194d51ae4');\n",
              "          const dataTable =\n",
              "            await google.colab.kernel.invokeFunction('convertToInteractive',\n",
              "                                                     [key], {});\n",
              "          if (!dataTable) return;\n",
              "\n",
              "          const docLinkHtml = 'Like what you see? Visit the ' +\n",
              "            '<a target=\"_blank\" href=https://colab.research.google.com/notebooks/data_table.ipynb>data table notebook</a>'\n",
              "            + ' to learn more about interactive tables.';\n",
              "          element.innerHTML = '';\n",
              "          dataTable['output_type'] = 'display_data';\n",
              "          await google.colab.output.renderOutput(dataTable, element);\n",
              "          const docLink = document.createElement('div');\n",
              "          docLink.innerHTML = docLinkHtml;\n",
              "          element.appendChild(docLink);\n",
              "        }\n",
              "      </script>\n",
              "    </div>\n",
              "  </div>\n",
              "  "
            ]
          },
          "metadata": {},
          "execution_count": 61
        }
      ]
    },
    {
      "cell_type": "code",
      "source": [
        "import statsmodels.api as sm\n",
        "from statsmodels.formula.api import ols\n",
        "\n",
        "model = ols('data[\"HbA1C (D-60)\"] ~ data[\"Groups\"]', data=data).fit()\n",
        "anova_table = sm.stats.anova_lm(model, typ=2)\n",
        "anova_table"
      ],
      "metadata": {
        "colab": {
          "base_uri": "https://localhost:8080/",
          "height": 112
        },
        "id": "LRjhzKBiFbD0",
        "outputId": "ea07036e-27ba-41a7-f2aa-27bab0254814"
      },
      "execution_count": null,
      "outputs": [
        {
          "output_type": "execute_result",
          "data": {
            "text/plain": [
              "                sum_sq    df         F    PR(>F)\n",
              "data[\"Groups\"]   1.178   2.0  5.842395  0.007791\n",
              "Residual         2.722  27.0       NaN       NaN"
            ],
            "text/html": [
              "\n",
              "  <div id=\"df-0ae9c7c0-689c-44fd-91ad-85b293d8c77f\">\n",
              "    <div class=\"colab-df-container\">\n",
              "      <div>\n",
              "<style scoped>\n",
              "    .dataframe tbody tr th:only-of-type {\n",
              "        vertical-align: middle;\n",
              "    }\n",
              "\n",
              "    .dataframe tbody tr th {\n",
              "        vertical-align: top;\n",
              "    }\n",
              "\n",
              "    .dataframe thead th {\n",
              "        text-align: right;\n",
              "    }\n",
              "</style>\n",
              "<table border=\"1\" class=\"dataframe\">\n",
              "  <thead>\n",
              "    <tr style=\"text-align: right;\">\n",
              "      <th></th>\n",
              "      <th>sum_sq</th>\n",
              "      <th>df</th>\n",
              "      <th>F</th>\n",
              "      <th>PR(&gt;F)</th>\n",
              "    </tr>\n",
              "  </thead>\n",
              "  <tbody>\n",
              "    <tr>\n",
              "      <th>data[\"Groups\"]</th>\n",
              "      <td>1.178</td>\n",
              "      <td>2.0</td>\n",
              "      <td>5.842395</td>\n",
              "      <td>0.007791</td>\n",
              "    </tr>\n",
              "    <tr>\n",
              "      <th>Residual</th>\n",
              "      <td>2.722</td>\n",
              "      <td>27.0</td>\n",
              "      <td>NaN</td>\n",
              "      <td>NaN</td>\n",
              "    </tr>\n",
              "  </tbody>\n",
              "</table>\n",
              "</div>\n",
              "      <button class=\"colab-df-convert\" onclick=\"convertToInteractive('df-0ae9c7c0-689c-44fd-91ad-85b293d8c77f')\"\n",
              "              title=\"Convert this dataframe to an interactive table.\"\n",
              "              style=\"display:none;\">\n",
              "        \n",
              "  <svg xmlns=\"http://www.w3.org/2000/svg\" height=\"24px\"viewBox=\"0 0 24 24\"\n",
              "       width=\"24px\">\n",
              "    <path d=\"M0 0h24v24H0V0z\" fill=\"none\"/>\n",
              "    <path d=\"M18.56 5.44l.94 2.06.94-2.06 2.06-.94-2.06-.94-.94-2.06-.94 2.06-2.06.94zm-11 1L8.5 8.5l.94-2.06 2.06-.94-2.06-.94L8.5 2.5l-.94 2.06-2.06.94zm10 10l.94 2.06.94-2.06 2.06-.94-2.06-.94-.94-2.06-.94 2.06-2.06.94z\"/><path d=\"M17.41 7.96l-1.37-1.37c-.4-.4-.92-.59-1.43-.59-.52 0-1.04.2-1.43.59L10.3 9.45l-7.72 7.72c-.78.78-.78 2.05 0 2.83L4 21.41c.39.39.9.59 1.41.59.51 0 1.02-.2 1.41-.59l7.78-7.78 2.81-2.81c.8-.78.8-2.07 0-2.86zM5.41 20L4 18.59l7.72-7.72 1.47 1.35L5.41 20z\"/>\n",
              "  </svg>\n",
              "      </button>\n",
              "      \n",
              "  <style>\n",
              "    .colab-df-container {\n",
              "      display:flex;\n",
              "      flex-wrap:wrap;\n",
              "      gap: 12px;\n",
              "    }\n",
              "\n",
              "    .colab-df-convert {\n",
              "      background-color: #E8F0FE;\n",
              "      border: none;\n",
              "      border-radius: 50%;\n",
              "      cursor: pointer;\n",
              "      display: none;\n",
              "      fill: #1967D2;\n",
              "      height: 32px;\n",
              "      padding: 0 0 0 0;\n",
              "      width: 32px;\n",
              "    }\n",
              "\n",
              "    .colab-df-convert:hover {\n",
              "      background-color: #E2EBFA;\n",
              "      box-shadow: 0px 1px 2px rgba(60, 64, 67, 0.3), 0px 1px 3px 1px rgba(60, 64, 67, 0.15);\n",
              "      fill: #174EA6;\n",
              "    }\n",
              "\n",
              "    [theme=dark] .colab-df-convert {\n",
              "      background-color: #3B4455;\n",
              "      fill: #D2E3FC;\n",
              "    }\n",
              "\n",
              "    [theme=dark] .colab-df-convert:hover {\n",
              "      background-color: #434B5C;\n",
              "      box-shadow: 0px 1px 3px 1px rgba(0, 0, 0, 0.15);\n",
              "      filter: drop-shadow(0px 1px 2px rgba(0, 0, 0, 0.3));\n",
              "      fill: #FFFFFF;\n",
              "    }\n",
              "  </style>\n",
              "\n",
              "      <script>\n",
              "        const buttonEl =\n",
              "          document.querySelector('#df-0ae9c7c0-689c-44fd-91ad-85b293d8c77f button.colab-df-convert');\n",
              "        buttonEl.style.display =\n",
              "          google.colab.kernel.accessAllowed ? 'block' : 'none';\n",
              "\n",
              "        async function convertToInteractive(key) {\n",
              "          const element = document.querySelector('#df-0ae9c7c0-689c-44fd-91ad-85b293d8c77f');\n",
              "          const dataTable =\n",
              "            await google.colab.kernel.invokeFunction('convertToInteractive',\n",
              "                                                     [key], {});\n",
              "          if (!dataTable) return;\n",
              "\n",
              "          const docLinkHtml = 'Like what you see? Visit the ' +\n",
              "            '<a target=\"_blank\" href=https://colab.research.google.com/notebooks/data_table.ipynb>data table notebook</a>'\n",
              "            + ' to learn more about interactive tables.';\n",
              "          element.innerHTML = '';\n",
              "          dataTable['output_type'] = 'display_data';\n",
              "          await google.colab.output.renderOutput(dataTable, element);\n",
              "          const docLink = document.createElement('div');\n",
              "          docLink.innerHTML = docLinkHtml;\n",
              "          element.appendChild(docLink);\n",
              "        }\n",
              "      </script>\n",
              "    </div>\n",
              "  </div>\n",
              "  "
            ]
          },
          "metadata": {},
          "execution_count": 62
        }
      ]
    },
    {
      "cell_type": "code",
      "source": [
        ""
      ],
      "metadata": {
        "id": "muOCtHaxFnBR"
      },
      "execution_count": null,
      "outputs": []
    }
  ]
}